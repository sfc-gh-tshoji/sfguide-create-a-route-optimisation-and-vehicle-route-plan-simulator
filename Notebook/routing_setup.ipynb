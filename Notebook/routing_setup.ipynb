{
 "cells": [
  {
   "cell_type": "markdown",
   "id": "f1c11f53-9e8f-4fda-9011-198d1de92c08",
   "metadata": {
    "collapsed": false,
    "name": "title",
    "resultHeight": 115
   },
   "source": [
    "# USING A ROUTE OPTIMIZATION NATIVE APP WITH AISQL\n",
    "\n",
    "\n",
    "Using Cortex with  either the open route optimization service **API** or self contained **Native App**"
   ]
  },
  {
   "cell_type": "markdown",
   "id": "cfe5bc3b-5e61-4b27-a609-5573d1ddefbd",
   "metadata": {
    "collapsed": false,
    "name": "heading_simple_directions",
    "resultHeight": 88
   },
   "source": [
    "#### 1.  Simple Directions - allows simple directions from one point to another.\n",
    "You can load multiple start/end points to get directions for multiple places). You also need to specify the method such as driving-car.  This function is leveraging a GET request from the api.  You will note that the function is written in python - the service itself has handy python snippets to help curate the function.  \n",
    "click [here](https://openrouteservice.org/dev/#/api-docs/v2/directions/{profile}/post) to navigate to the directions service playground\n",
    "\n",
    "I have decided to use the **AI_COMPLETE** function with **Anthropic LLM** -  **Claude** to provide an array of values which contain one nice hotel and one nice restaurant in **New York City**.\n",
    "\n",
    "In the following cell, indicate which functions you will be using.  If you are using functions from the native app, choose **OPENROUTESERVICE_NATIVE_APP**.  If you are using the external integration api calls, choose **VEHICLE_ROUTING_SIMULATOR**."
   ]
  },
  {
   "cell_type": "code",
   "execution_count": null,
   "id": "33638579-bfef-4253-82d2-94ac839c8344",
   "metadata": {
    "language": "python",
    "name": "choose_api_or_nativeapp"
   },
   "outputs": [],
   "source": [
    "#database = 'OPENROUTESERVICE_NATIVE_APP'\n",
    "database = 'VEHICLE_ROUTING_SIMULATOR'\n",
    "\n",
    "# populate the above with either the native app name or the database which \n",
    "# holds the api functions.  This is called VEHICLE_ROUTING_SIMULATOR\n",
    "# If testing locally, the app name is called OPENROUTESERVICE_NATIVE_APP\n",
    "\n",
    "## Add your secret if you are using the API\n",
    "\n",
    "##ALTER SECRET VEHICLE_ROUTING_SIMULATOR.CORE.ROUTING_TOKEN SET SECRET_STRING = 'secret for open route service';\n",
    "\n"
   ]
  },
  {
   "cell_type": "markdown",
   "id": "485df0d4-895f-480f-b3b2-864f2dfc2399",
   "metadata": {
    "collapsed": false,
    "name": "head_directions_simp"
   },
   "source": [
    "Firstly we will generate some data used to call the directions service"
   ]
  },
  {
   "cell_type": "code",
   "execution_count": null,
   "id": "25d799c5-f19f-4227-ae90-ca24c938392d",
   "metadata": {
    "language": "sql",
    "name": "simple_directions_data"
   },
   "outputs": [],
   "source": [
    "CREATE or replace table SIMPLE_DIRECTIONS AS\n",
    "\n",
    "SELECT AI_COMPLETE(\n",
    "\n",
    "\n",
    "model =>'claude-4-sonnet', \n",
    "\n",
    "prompt =>'Return 1 hotel in Brooklyn and 1 restaurant in Manhattan IN NEW YORK CITY.',\n",
    "response_format => {\n",
    "            'type':'json',\n",
    "            'schema':{'type' : 'object','properties' : {'locations':{'type':'array','items':{'type':'object','properties':\n",
    "            {'place' : {'type' : 'string'},'longitude': {'type':'number'}, 'latitude': {'type':'number'}},'required':['place','longitude' ,'latitude']}}}}\n",
    "            }\n",
    "    \n",
    ") PLACES;\n",
    "\n",
    "select * from SIMPLE_directions"
   ]
  },
  {
   "cell_type": "markdown",
   "id": "87c5bb2a-5928-4665-932f-a6b07af0b2b5",
   "metadata": {
    "collapsed": false,
    "name": "simp_directions_run"
   },
   "source": [
    "You will now use this data to call the directions function.  The function expects a string for the vehicle profile, and a variant for the start and end point"
   ]
  },
  {
   "cell_type": "code",
   "execution_count": null,
   "id": "1afdcefa-6106-4038-97d4-44a9783f30f0",
   "metadata": {
    "language": "sql",
    "name": "use_directions_function"
   },
   "outputs": [],
   "source": [
    "select * exclude GEO, TO_GEOGRAPHY(GEO:features[0]:geometry) GEO,\n",
    "GEO:features[0]:properties:segments INSTRUCTIONS, \n",
    "DIV0(GEO:features[0]:properties:summary:distance::FLOAT,1000) DISTANCE_KM,\n",
    "DIV0(GEO:features[0]:properties:summary:duration::FLOAT,60) DURATION_MINS\n",
    "\n",
    "from\n",
    "\n",
    "\n",
    "\n",
    "(\n",
    "select\n",
    "{{database}}.CORE.DIRECTIONS('driving-car',\n",
    "object_construct('coordinates',array_agg(array_construct(VALUE:longitude,\n",
    "VALUE:latitude)))) GEO,\n",
    "array_agg(VALUE:place) destinations\n",
    "\n",
    "FROM SIMPLE_DIRECTIONS, lateral flatten (places:locations))"
   ]
  },
  {
   "cell_type": "markdown",
   "id": "706acdb6-393f-472c-9126-b8a8628d35eb",
   "metadata": {
    "collapsed": false,
    "name": "heading_example_pydeck"
   },
   "source": [
    "## Cortex Generated Map\n",
    "\n",
    "I will now introduce you to the **pydeck** library.  This library allows you to visualise multiple map layers which can include polygons,linestrings and points."
   ]
  },
  {
   "cell_type": "code",
   "execution_count": null,
   "id": "8aac1de7-5364-42c5-84d3-46519b9f95d8",
   "metadata": {
    "codeCollapsed": false,
    "collapsed": false,
    "language": "sql",
    "name": "map_generator"
   },
   "outputs": [],
   "source": [
    "CREATE OR REPLACE TABLE CORTEX_MAP AS\n",
    "\n",
    "select *, AI_COMPLETE('claude-4-sonnet',\n",
    "\n",
    "CONCAT('Create a pandas dataframe using a snowpark dataframe called mapdf. the snowpark dataframe has one geography column called GEO.  use a lamda function with json.loads to extract the coordinates for a pydeck path layer to use for a pydeck path layer.  Create the pydeck path layer with a min line width of 5 and a colour of green and map.  add a tooltip that has DISTANCE_KM and DURATION_MINS both of which are columns in the pandas dataframe which was based on the mapdf snowpark dataframe.  Add place names from the DESTINATIONS column.  Create a scatter layer which has the start and end point.  Make sure pickable is switched off, the radius is a max size of 10 and a min size of 5, the scale is 1 and the color is black. render the result as a streamlit pydeck map. The map style is none.  RETURN THE PYTHON CODE ONLY'))::TEXT PYTHON from\n",
    "\n",
    "{{use_directions_function}};\n",
    "\n",
    "SELECT * FROM CORTEX_MAP"
   ]
  },
  {
   "cell_type": "code",
   "execution_count": null,
   "id": "d1b708e0-a147-4ecd-b9f7-338a193eff7f",
   "metadata": {
    "codeCollapsed": true,
    "collapsed": false,
    "language": "python",
    "name": "generated_code"
   },
   "outputs": [],
   "source": [
    "import streamlit as st\n",
    "from snowflake.snowpark.context import get_active_session\n",
    "session = get_active_session()\n",
    "\n",
    "st.markdown('### THIS IS A CORTEX GENERATED MAP')\n",
    "code = session.table('CORTEX_MAP').select('PYTHON').collect()[0][0]\n",
    "\n",
    "mapdf = use_directions_function.to_df()\n",
    "code2 = code.replace(\"```python\\n\", \"\").replace(\"```\", \"\")\n",
    "with st.expander('Python Code for Map'):\n",
    "    st.write(code)\n",
    "with st.expander('The Pydeck Map'):\n",
    "    exec(code2)"
   ]
  },
  {
   "cell_type": "markdown",
   "id": "de8e4648-1b31-4439-9c98-921d473c475c",
   "metadata": {
    "collapsed": false,
    "name": "heading_advanced",
    "resultHeight": 88
   },
   "source": [
    "## Advanced directions - create routes which include multiple way points. \n",
    "Although the function above is nice and simple for directions that stops at only one place, vehicle route plans that contain multiple drop offs will need to effectively 'detour' between the starting point and destination.  This is where we utilise **way points**.\n",
    "\n",
    "Each stop is loaded into one array.  You also need to specify the method such as driving-car.  This type of api uses a PUT request - you will see how this is articulated in the code below.\n",
    "\n",
    "Lets now take you through calling the service which pushes in multiple way points.  Firstly, you will create a series of waypoints in an array.  Python is a great way to inject array variables into our sql function via a notebook for testing purposes."
   ]
  },
  {
   "cell_type": "code",
   "execution_count": null,
   "id": "226b538e-8147-4840-b249-0448794aba80",
   "metadata": {
    "language": "sql",
    "name": "ten_random"
   },
   "outputs": [],
   "source": [
    "CREATE or replace table TEN_RANDOM AS \n",
    "\n",
    "select \n",
    "\n",
    "value:latitude LAT,\n",
    "value:longitude LON,\n",
    "value:restaurant_name::TEXT RESTAURANT_NAME,\n",
    "array_construct(LON,LAT) COORDINATES\n",
    "\n",
    "\n",
    "from (SELECT AI_COMPLETE(\n",
    "\n",
    "model=>'claude-4-sonnet',\n",
    "\n",
    "prompt=>'Return 10 restaurants in New York City.',\n",
    "           \n",
    "response_format =>   {\n",
    "            'type':'json',\n",
    "            'schema':{'type' : 'object','properties' : {'locations':{'type':'array','items':{'type':'object','properties':\n",
    "            {'restaurant_name' : {'type' : 'string'},'longitude': {'type':'number'}, 'latitude': {'type':'number'}},'required':['restaurant_name','longitude' ,'latitude']}}}}\n",
    "            }\n",
    "    \n",
    ") PLACES),lateral flatten (places:locations);\n",
    "\n",
    "SELECT * FROM TEN_RANDOM"
   ]
  },
  {
   "cell_type": "markdown",
   "id": "2ac7555d-352b-4210-974c-6393016928ef",
   "metadata": {
    "collapsed": false,
    "name": "head_run_advanced_directions"
   },
   "source": [
    "We will now run the function to include multiple way points"
   ]
  },
  {
   "cell_type": "code",
   "execution_count": null,
   "id": "c8e4810c-8265-4e38-8787-da30366c4cb4",
   "metadata": {
    "language": "sql",
    "name": "way_points"
   },
   "outputs": [],
   "source": [
    "select LON, LAT,{{database}}.CORE.DIRECTIONS\n",
    "\n",
    "('driving-car',\n",
    "\n",
    "object_construct('coordinates',coordinates)):features[0] all_data, \n",
    "all_data:geometry GEO, \n",
    "all_data:properties PROPERTIES\n",
    "\n",
    "FROM \n",
    "\n",
    "(select AVG(LON) LON, AVG(LAT) LAT, array_agg(coordinates) coordinates from TEN_RANDOM)"
   ]
  },
  {
   "cell_type": "markdown",
   "id": "f84ccc6f-0dee-46a2-9043-954f131db9ba",
   "metadata": {
    "collapsed": false,
    "name": "visualise_head"
   },
   "source": [
    "## VISUALISE MULTI LAYERS\n",
    "We will now visualise the the directions with way points again using pydeck.  This incorporates two layers - one for the line string and the second for each way point "
   ]
  },
  {
   "cell_type": "code",
   "execution_count": null,
   "id": "09e78d3e-8484-41b7-9fae-f75b5db7918b",
   "metadata": {
    "language": "sql",
    "name": "all_data_2"
   },
   "outputs": [],
   "source": [
    "select * EXCLUDE ALL_DATA from \n",
    "\n",
    "\n",
    "(select ARRAY_AGG(object_construct('coordinates',COORDINATES,'restaurant_name',RESTAURANT_NAME)) drop_offs \n",
    "\n",
    "from TEN_RANDOM) \n",
    "\n",
    "inner join {{way_points}}"
   ]
  },
  {
   "cell_type": "code",
   "execution_count": null,
   "id": "1e2faf03-671e-4dc9-b1ba-49a3189ab7b9",
   "metadata": {
    "codeCollapsed": false,
    "collapsed": true,
    "language": "sql",
    "name": "cortex_map_2"
   },
   "outputs": [],
   "source": [
    "CREATE  or replace table CORTEX_MAP_2 AS\n",
    "\n",
    "select *, AI_COMPLETE('claude-4-sonnet',\n",
    "\n",
    "CONCAT('''\n",
    "\n",
    "use an existing Snowpark dataframe called dropoffs_df,\n",
    "This dataframe has a column called GEO.  This column has a datatype of Geography\n",
    "convert the dataframe to pandas called dropoffs_pd \n",
    "Use a  lamda function with json.loads to transform the GEO column in the dropoffs_pd data frame to contain an array of longitude and latitude coordinates.  \n",
    "\n",
    "In streamlit, create two tabs.  Tab 1 will contain a pydeck map.  generate the pydeck code needed to render a path layer map using the GEO column in the pandas dataframe.  the path layer should not be pickable. the size width of the path layer should be suitable to mark clear route directions on a map.  The map style is none. Apply the code to an st.pydeck_chart so import streamlit and use the GEO column, Apply a second layer which is a scatter layer.  This has all the points using the dropoffs column,  the drop offs column is an array containing multiple objects.  one object is called coordinates which is an array containing a longitude and latitude.  another object is the restaurant_name.Make sure pickable is switched on, the radius is a max size of 10 and a min size of 5, the scale is 1 and the color is black.  Add an appopiate tooltip for each point.  \n",
    "\n",
    "Tab 2 will contain markdown which renders the first row the following direction data for all segments. The segments are in a column called PROPERTIES, the restaurant data is in a field called DROP_OFFS and the path layer data is in a field called GEO.  you will need to use json.loads to pars the json in GEO, PROPERTIES and DROPOFFS.  this data frame will be available before the code is ran''', properties::text, ''' return python only'''))::TEXT PYTHON from\n",
    "\n",
    "{{all_data_2}};\n"
   ]
  },
  {
   "cell_type": "code",
   "execution_count": null,
   "id": "1cd94f3c-7e5a-4a7c-925b-280f8ca501b2",
   "metadata": {
    "codeCollapsed": true,
    "collapsed": false,
    "language": "python",
    "name": "cortex_map_2_rendered"
   },
   "outputs": [],
   "source": [
    "import streamlit as st\n",
    "from snowflake.snowpark.context import get_active_session\n",
    "session = get_active_session()\n",
    "\n",
    "dropoffs_df = all_data_2.to_df()\n",
    "\n",
    "code = session.table('cortex_map_2').select('PYTHON').collect()[0][0]\n",
    "\n",
    "code2 = code.replace(\"```python\\n\", \"\").replace(\"```\", \"\")\n",
    "\n",
    "with st.container(height=800):\n",
    "    with st.expander('Python Code for Map'):\n",
    "        st.write(code)\n",
    "    with st.expander('The Pydeck Map'):\n",
    "        exec(code2)"
   ]
  },
  {
   "cell_type": "markdown",
   "id": "b18a80eb-adc5-47c5-878b-8a3e21cefcfd",
   "metadata": {
    "collapsed": false,
    "name": "heading_optimization",
    "resultHeight": 88
   },
   "source": [
    "## ROUTE OPTIMIZATION FUNCTION\n",
    "\n",
    "  \n",
    "\n",
    "If you know the jobs and know what vehicles are availalble, whats the most optimal way of getting the goods/services there??"
   ]
  },
  {
   "cell_type": "code",
   "execution_count": null,
   "id": "1c4f086f-8c22-4f77-94a9-e2ba2f4211c8",
   "metadata": {
    "language": "sql",
    "name": "gen_supplier"
   },
   "outputs": [],
   "source": [
    "CREATE OR REPLACE TABLE supplier AS\n",
    "\n",
    "SELECT AI_COMPLETE(\n",
    "\n",
    "        model=>'claude-4-sonnet', \n",
    "        prompt=>'give me a location in new york city that sells food to restaurants.            return the name of the supplier and the latitude and longitude',\n",
    "        response_format =>{\n",
    "            'type':'json',\n",
    "            'schema':{'type' : 'object','properties' : {'locations':{'type':'array','items':{'type':'object','properties':\n",
    "            {'place' : {'type' : 'string'},'longitude': {'type':'number'}, 'latitude': {'type':'number'}},'required':['place','longitude' ,'latitude']}}}}\n",
    "            }\n",
    "    \n",
    "):locations[0] SUPPLIER,\n",
    "\n",
    "supplier:latitude::float lat, supplier:longitude::float lon, supplier:place::text restaurant;\n",
    "\n",
    "select * from SUPPLIER"
   ]
  },
  {
   "cell_type": "markdown",
   "id": "4f81f5ed-2695-495a-a94a-99c1e5208f20",
   "metadata": {
    "collapsed": false,
    "name": "head_job_template"
   },
   "source": [
    "## CREATE A JOB AND VEHICLE TEMPLATE TO HELP CORTEX SIMULATE JOBS AND AVALABLE VEHICLES\n",
    "Below is a sample format for the jobs and vehicles and is an illustration of what the optimization service expects."
   ]
  },
  {
   "cell_type": "code",
   "execution_count": null,
   "id": "37387b28-2307-436f-99f7-f77ea343b062",
   "metadata": {
    "codeCollapsed": true,
    "collapsed": false,
    "language": "python",
    "name": "sample_jobs_and_vehicles"
   },
   "outputs": [],
   "source": [
    "vehicles =  [\n",
    "  {\n",
    "    \"capacity\": [\n",
    "      2\n",
    "    ],\n",
    "    \"setup\":120,\n",
    "    \"service\":240,\n",
    "    \"id\": 1,\n",
    "    \"location\": [\n",
    "      -4.613748000000000e-01,\n",
    "      5.152569760000000e+01\n",
    "    ],\n",
    "    \"skills\": [\n",
    "      1\n",
    "    ],\n",
    "    \"time_window\": [\n",
    "      'epoch format',\n",
    "      'epoch format'\n",
    "    ]\n",
    "  },\n",
    "  {\n",
    "    \"capacity\": [\n",
    "      2\n",
    "    ],\n",
    "    \"id\": 6,\n",
    "    \"location\": [\n",
    "      -3.355460000000000e-01,\n",
    "      5.150566550000000e+01\n",
    "    ],\n",
    "    \"skills\": [\n",
    "      1\n",
    "    ],\n",
    "    \"time_window\": [\n",
    "      36000,\n",
    "      54000\n",
    "    ]\n",
    "  }\n",
    "\n",
    "]\n",
    "\n",
    "jobs = [\n",
    "  {\n",
    "    \"capacity\": [\n",
    "      2\n",
    "    ],\n",
    "    \"end\": [\n",
    "      -4.467074000000000e-01,\n",
    "      5.146048020000000e+01\n",
    "    ],\n",
    "    \"id\": 1,\n",
    "    \"profile\": \"driving-hgv\",\n",
    "    \"skills\": [\n",
    "      1\n",
    "    ],\n",
    "    \"start\": [\n",
    "      -4.467074000000000e-01,\n",
    "      5.146048020000000e+01\n",
    "    ],\n",
    "    \"time_windows\": [\n",
    "      'epoch format',\n",
    "      'epoch format'\n",
    "    ]\n",
    "  },\n",
    "]\n",
    "col1, col2 = st.columns(2)\n",
    "\n",
    "with col1:\n",
    "    st.markdown('### Format for Jobs')\n",
    "    st.json(jobs)\n",
    "with col2:\n",
    "    st.markdown('### Format for Vehicles')\n",
    "    st.json(vehicles)"
   ]
  },
  {
   "cell_type": "markdown",
   "id": "8cd26ed3-5bd8-4bdb-bcf2-492a24e35b32",
   "metadata": {
    "collapsed": false,
    "name": "create_synthetic_jobs_and_vehicle"
   },
   "source": [
    "We will now create a synthetic vehicle as well as 10 delivery jobs that this vehicle needs to cover in New York.  We are specifying Structured json to generate the jobs and vehicle"
   ]
  },
  {
   "cell_type": "code",
   "execution_count": null,
   "id": "e2356277-73ca-4928-9de9-caf7c3941354",
   "metadata": {
    "language": "sql",
    "name": "one_vehicle_optimization"
   },
   "outputs": [],
   "source": [
    "CREATE or replace table OPTIMIZATION_1_VEHICLE AS\n",
    "\n",
    "SELECT *,AI_COMPLETE(\n",
    "\n",
    "model=>'claude-4-sonnet', \n",
    "\n",
    "prompt=> CONCAT('Return 10 delivery jobs with 1 available vehicle in New York City. on the 4th june 2025.  Make delivery routes based this data. ',drop_offs::text, 'all time_windows are in epoch format.  all vehicles will start from this supplier',supplier::text,'  this simulation will be used for a route optimization service.  the vehicle profile will be driving-car.  location is an array containing two values, longitude and latitude.' ),\n",
    "            \n",
    "    \n",
    "model_parameters=>    {\n",
    "        'temperature': 0,\n",
    "        'max_tokens': 5000},\n",
    "\n",
    "response_format=>{\n",
    "            'type':'json',\n",
    "            'schema':{'type' : 'object','properties' :\n",
    "{'job_vehicles':{'type':'array','items':\n",
    "\n",
    "{'jobs':{'type':'array','items':{'type':'object','properties':\n",
    "            {'capacity' : {'type' : 'array'},\n",
    "            'setup': {'type':'number'},\n",
    "            --'service': {'type':'number'},\n",
    "            'id':{'type':'number'}, \n",
    "            'location':{'type':'array'},\n",
    "            'skills':{'type':'array'},\n",
    "            'time_window':{'type':'array'}\n",
    "            },\n",
    "            'required':['capacity','setup','skills','time_window''id','location']}},\n",
    "            \n",
    "'vehicles':{'type':'array','items':{'type':'object','properties':\n",
    "            {'capacity' : {'type' : 'array'},\n",
    "            'start': {'type':'array'},\n",
    "            'end': {'type':'array'},\n",
    "            'service': {'type':'number'},\n",
    "            'id':{'type':'number'}, \n",
    "            'location':{'type':'array'}, \n",
    "            'skills':{'type':'array'},\n",
    "            'profile':{'type':'string'},\n",
    "            'time_window':{'type':'array'}\n",
    "            },'required':['capacity','start','end','service','id','location','profile','time_window']\n",
    "            }}\n",
    "            \n",
    "            }\n",
    "   \n",
    "    }}}}\n",
    ") JOBS  FROM\n",
    "\n",
    "(select * from (select array_agg(drop_offs) drop_offs from {{all_data_2}}) inner join supplier);\n",
    "\n",
    "SELECT * FROM OPTIMIZATION_1_VEHICLE"
   ]
  },
  {
   "cell_type": "markdown",
   "id": "1738f5a7-524a-4e74-9342-928cd1deb922",
   "metadata": {
    "collapsed": false,
    "name": "head_test_function"
   },
   "source": [
    "## PUT THE JOBS AND VEHICLES THROUGH THE ROUTE OPTIMIZATION SERVICE\n",
    "Let's now put the jobs through the route optimization service"
   ]
  },
  {
   "cell_type": "code",
   "execution_count": null,
   "id": "1f450cb6-4d15-44b1-8f36-30a3166fd707",
   "metadata": {
    "language": "sql",
    "name": "jobs_vehicles"
   },
   "outputs": [],
   "source": [
    "select JOBS:job_vehicles[0]:vehicles,JOBS:job_vehicles[0]:jobs from OPTIMIZATION_1_VEHICLE"
   ]
  },
  {
   "cell_type": "code",
   "execution_count": null,
   "id": "ed6aa2a3-26b3-4cf6-ab62-2937b4884530",
   "metadata": {
    "collapsed": false,
    "language": "sql",
    "name": "test_route_optimization"
   },
   "outputs": [],
   "source": [
    "select *, {{database}}.CORE.OPTIMIZATION(\n",
    "    JOBS:job_vehicles[0]:jobs, \n",
    "   JOBS:job_vehicles[0]:vehicles[0]) \n",
    " OPTIMIZATION from OPTIMIZATION_1_VEHICLE"
   ]
  },
  {
   "cell_type": "markdown",
   "id": "ac09cf97-384d-40a0-9a80-36f63b1a0d38",
   "metadata": {
    "collapsed": false,
    "name": "head_look_at_json"
   },
   "source": [
    "Let's now have a look at the json object. You will see that the array object is broken down into routes.  Each route will be assigned a vehicle and that vehicle will be allocated delivery locations and times.  There will also be infomation about the duration and may include details such as waiting times.\n",
    "\n",
    "If you used the native app, it will include a geometry object which gives you an array of every point for each route.  You will not see this if you use the external api calls.  However, you can still achieve similar results by using the directions function for each route."
   ]
  },
  {
   "cell_type": "code",
   "execution_count": null,
   "id": "ccbc5bc6-b7de-4ae3-ac21-946b09ad95b0",
   "metadata": {
    "collapsed": false,
    "language": "python",
    "name": "view_optimization_results"
   },
   "outputs": [],
   "source": [
    "with st.container(height=500):\n",
    "    st.code(test_route_optimization.to_df().to_pandas().OPTIMIZATION.iloc[0])"
   ]
  },
  {
   "cell_type": "markdown",
   "id": "203f7148-1c45-4b51-a5e1-5ffd36a6aad0",
   "metadata": {
    "collapsed": false,
    "name": "heading_dropoffs"
   },
   "source": [
    "View the step line and the directions line with the points on a map.\n",
    "\n",
    "**Note** If you are using the functions from an api, the code below will call the directions api to get the line for route path.  The native app provides this as part of the optimization api.\n",
    "\n",
    "You will see logic in the code to call the directions service if no geometry data is provided by the optimization service."
   ]
  },
  {
   "cell_type": "code",
   "execution_count": null,
   "id": "96c81bbc-ff2b-44a7-baab-01d6a74404f2",
   "metadata": {
    "codeCollapsed": true,
    "collapsed": false,
    "language": "python",
    "name": "view_drop_offs_in_map"
   },
   "outputs": [],
   "source": [
    "import streamlit as st\n",
    "from snowflake.snowpark.context import get_active_session\n",
    "from snowflake.snowpark.functions import *\n",
    "from snowflake.snowpark.types import *\n",
    "import pandas as pd\n",
    "import pydeck as pdk\n",
    "import json\n",
    "\n",
    "from snowflake.snowpark.functions import *\n",
    "from snowflake.snowpark.types import *\n",
    "\n",
    "routes = test_route_optimization.to_df()\n",
    "routes = routes.with_column('steps',col('OPTIMIZATION')['routes'][0]['steps'])\n",
    "\n",
    "routes = routes.with_column('GEOMETRY',col('OPTIMIZATION')['routes'][0]['geometry'])\n",
    "\n",
    "api = 'no'\n",
    "if routes.select('GEOMETRY').collect()[0][0] is None:\n",
    "    api = 'yes'\n",
    "    routes = routes.drop('GEOMETRY')\n",
    "    steps = routes\\\n",
    "    .join_table_function('flatten',col('OPTIMIZATION')['routes']).\\\n",
    "    with_column_renamed('VALUE','LEV1').\\\n",
    "    join_table_function('flatten',col('LEV1')['steps']).select(object_construct(lit('coordinates'),\n",
    "                                                                                array_agg(col('VALUE')['location'])).alias('STEPS'))\n",
    "\n",
    "\n",
    "    steps = steps.select(call_function(f'''{database}.CORE.DIRECTIONS''',lit('driving-car'),col('STEPS'))['features'][0]['geometry']['coordinates'].alias('GEOMETRY'))\n",
    "    routes = routes.join(steps)\n",
    " \n",
    "\n",
    "routes = routes.join_table_function('flatten',col('steps')).select('VALUE','SUPPLIER','GEOMETRY')\n",
    "routes = routes.select('GEOMETRY',\n",
    "              to_char(to_timestamp(col('VALUE')['arrival'])).alias('ARRIVAL'),\n",
    "              col('VALUE')['duration'].alias('duration'),\n",
    "              col('VALUE')['distance'].alias('distance'),\n",
    "              col('VALUE')['setup'].alias('setup'),\n",
    "              col('VALUE')['id'].alias('Job ID'),\n",
    "              parse_json('VALUE')['location'][1].astype(FloatType()).alias('LAT'),\n",
    "              parse_json('VALUE')['location'][0].astype(FloatType()).alias('LON'),\n",
    "              col('VALUE')['service'].alias('Service'))\n",
    "            \n",
    "line = routes.select(any_value('GEOMETRY').alias('GEOMETRY'),call_function('ST_COLLECT',call_function('st_makepoint',col('LON'),col('LAT'))).alias('LINE')) \n",
    "line = line.with_column('CENTROID',call_function('ST_CENTROID',(call_function('ST_ENVELOPE',col('LINE')))))\n",
    "routes = routes.drop('GEOMETRY')\n",
    "\n",
    "\n",
    "tooltip = {\n",
    "   \"html\": \"\"\"<b>Job ID:</b> {Job ID}\n",
    "   <br><b>Arrival:</b> {ARRIVAL} \n",
    "   <br> <b>Duration:</b> {DURATION}\n",
    "   <br> <b>Setup:</b> {SETUP}\n",
    "   <br> <b>Service:</b> {SERVICE}\n",
    "   <br> <b>Distance:</b> {DISTANCE}\"\"\",\n",
    "   \"style\": {\n",
    "       \"width\":\"50%\",\n",
    "        \"backgroundColor\": \"steelblue\",\n",
    "        \"color\": \"white\",\n",
    "       \"text-wrap\": \"balance\"\n",
    "   }\n",
    "}\n",
    "\n",
    "\n",
    "\n",
    "session = get_active_session()\n",
    "\n",
    "center = line.select(call_function('ST_X',col('CENTROID')).alias('X'),\n",
    "                     call_function('ST_Y',col('CENTROID')).alias('Y')).limit(1).to_pandas()\n",
    "\n",
    "LAT = center.Y.iloc[0]\n",
    "LON = center.X.iloc[0]\n",
    "\n",
    "\n",
    "directions = line.select(object_construct(lit('coordinates'),col('GEOMETRY')).alias('GEOMETRY'))\n",
    "routespd = routes.to_pandas()\n",
    "\n",
    "data = directions.select('GEOMETRY').to_pandas()\n",
    "    \n",
    "data[\"coordinates\"] = data[\"GEOMETRY\"].apply(lambda row: json.loads(row)[\"coordinates\"])\n",
    "\n",
    "\n",
    "st.write(data)\n",
    "data2 = line.to_pandas()\n",
    "data2[\"coordinates\"] = data2[\"LINE\"].apply(lambda row: json.loads(row)[\"coordinates\"])\n",
    "data3 = session.table('supplier').to_pandas()\n",
    "st.write(data3)\n",
    "\n",
    "\n",
    "sroutes = pdk.Layer(\n",
    "        'ScatterplotLayer',\n",
    "        data=routespd,\n",
    "        get_position=['LON','LAT'],\n",
    "        get_radius=10,\n",
    "        radius_min_pixels=5,\n",
    "        radius_max_pixels=10,\n",
    "        radius_scale=1,\n",
    "        get_color=[0, 0, 0],\n",
    "        pickable=True\n",
    "    )\n",
    "\n",
    " # Create scatter layer for restaurants\n",
    "slayer = pdk.Layer(\n",
    "        'ScatterplotLayer',\n",
    "        data=data3,\n",
    "        get_position=['LON', 'LAT'],\n",
    "        get_radius=30,\n",
    "        radius_min_pixels=5,\n",
    "        radius_max_pixels=30,\n",
    "        radius_scale=1,\n",
    "        get_color=[41, 181, 232],\n",
    "        pickable=False\n",
    "    )\n",
    "\n",
    "vehicle_1_path = pdk.Layer(\n",
    "type=\"PathLayer\",\n",
    "data=data,\n",
    "pickable=False,\n",
    "get_color=[253, 180, 107],\n",
    "width_scale=20,\n",
    "width_min_pixels=4,\n",
    "width_max_pixels=7,\n",
    "get_path=\"coordinates\",\n",
    "get_width=5)\n",
    "\n",
    "vehicle_1_straight_line = pdk.Layer(\n",
    "type=\"PathLayer\",\n",
    "data=data2,\n",
    "pickable=False,\n",
    "get_color=[255,0, 107],\n",
    "width_scale=20,\n",
    "width_min_pixels=4,\n",
    "width_max_pixels=7,\n",
    "get_path=\"coordinates\",\n",
    "get_width=5)\n",
    "\n",
    "view_state = pdk.ViewState(latitude=LAT, longitude=LON, zoom=10)\n",
    "st.markdown('Waypoints joined together as a straight line')\n",
    "st.pydeck_chart(pdk.Deck(tooltip=tooltip,layers=[vehicle_1_path,vehicle_1_straight_line,slayer,sroutes],map_style=None,initial_view_state=view_state,height=900))"
   ]
  },
  {
   "cell_type": "markdown",
   "id": "3e553510-c2a1-43b5-8924-3422206b4b0a",
   "metadata": {
    "collapsed": false,
    "name": "head_multi_vehicles"
   },
   "source": [
    "## Multiple Vehicles \n",
    "we will modify the data to have more jobs so now more vehicles are needed.  Firstly, let's create some quick sample data for 50 customers in New York City"
   ]
  },
  {
   "cell_type": "code",
   "execution_count": null,
   "id": "f1119329-409d-40cc-bb66-c416ae675c3e",
   "metadata": {
    "language": "sql",
    "name": "service_these_people"
   },
   "outputs": [],
   "source": [
    "-- Create or replace the 'customers' table\n",
    "CREATE OR REPLACE TABLE sample_customers AS\n",
    "SELECT\n",
    "    -- Generate a unique customer ID using ROW_NUMBER()\n",
    "    ROW_NUMBER() OVER (ORDER BY customer_data.index) AS ID,\n",
    "    -- Extract the name from the flattened customer object\n",
    "    customer_data.value:name::TEXT AS name,\n",
    "    -- Extract the address from the flattened customer object\n",
    "    customer_data.value:address::TEXT AS address,\n",
    "    customer_data.value:email::TEXT AS email,\n",
    "    -- Extract the latitude from the flattened customer object, casting to float\n",
    "    customer_data.value:latitude::FLOAT AS lat,\n",
    "    -- Extract the longitude from the flattened customer object, casting to float\n",
    "    customer_data.value:longitude::FLOAT AS lon\n",
    "FROM\n",
    "    (\n",
    "        \n",
    "        SELECT\n",
    "            AI_COMPLETE(\n",
    "            model=> 'claude-4-sonnet',\n",
    "            prompt=> 'give me 50 random residential locations in New York City for a               customer. return the name of the person, their address, a random email and              and the latitude and longitude',\n",
    "            model_parameters=>        \n",
    "                \n",
    "                {\n",
    "                    'temperature': 1,\n",
    "                    'max_tokens': 5000},\n",
    "            response_format=> {\n",
    "                        'type': 'json',\n",
    "                        'schema': {\n",
    "                            'type': 'object',\n",
    "                            'properties': {\n",
    "                                'locations': {\n",
    "                                    'type': 'array',\n",
    "                                    'items': {\n",
    "                                        'type': 'object',\n",
    "                                        'properties': {\n",
    "                                            'name': {'type': 'string'},\n",
    "                                            'address': {'type': 'string'},\n",
    "                                            'email': {'type': 'string'},\n",
    "                                            'longitude': {'type': 'number'},\n",
    "                                            'latitude': {'type': 'number'}\n",
    "                                        },\n",
    "                                        'required': ['name', 'address','email','longitude', 'latitude']\n",
    "                                    }\n",
    "                                }\n",
    "                            }\n",
    "                        }\n",
    "                    }\n",
    "                \n",
    "            ):locations AS locations_array -- Alias the extracted array\n",
    "    ) AS cortex_output, -- Alias the subquery result\n",
    "    -- Use LATERAL FLATTEN to unnest the 'locations_array' into separate rows\n",
    "    LATERAL FLATTEN(input => cortex_output.locations_array) AS customer_data;\n",
    "\n",
    "-- Select all data from the newly created/replaced 'customers' table\n",
    "SELECT * FROM sample_customers;\n"
   ]
  },
  {
   "cell_type": "markdown",
   "id": "d6bf9152-cfb3-45c3-bd01-36e341094804",
   "metadata": {
    "collapsed": false,
    "name": "put_restaurant_and_orders_in_objects"
   },
   "source": [
    "You will now create an object for all the drop offs and an object for the starting location which is the Restaurant"
   ]
  },
  {
   "cell_type": "code",
   "execution_count": null,
   "id": "645dad7d-282e-4552-a974-137a48d3f348",
   "metadata": {
    "language": "sql",
    "name": "take_away"
   },
   "outputs": [],
   "source": [
    "SELECT * FROM (SELECT \n",
    "array_agg(OBJECT_CONSTRUCT('Full Name',NAME,'ID',ID,'LAT',LAT,'LON',LON,'ADDRESS',ADDRESS)) DROP_OFFS \n",
    "FROM sample_customers) A \n",
    "\n",
    "INNER JOIN\n",
    "\n",
    "\n",
    "(select drop_offs[6] RESTAURANT from {{all_data_2}}) B"
   ]
  },
  {
   "cell_type": "markdown",
   "id": "d9ed7d19-f674-4de8-8f94-e331e2fb829b",
   "metadata": {
    "collapsed": false,
    "name": "simulate_multi_vehicle_jobs"
   },
   "source": [
    "Now lets generate the Jobs and vehicles"
   ]
  },
  {
   "cell_type": "code",
   "execution_count": null,
   "id": "30fe10e2-e1f6-4089-8296-ecac80fbfc6d",
   "metadata": {
    "language": "python",
    "name": "vehicles_num"
   },
   "outputs": [],
   "source": [
    "number_of_vehicles = 3  #the optimization api service has a maximum of 3 vehicles. \n",
    "## Try 5 if running the native app.\n",
    "\n",
    "#number_of_vehicles = 5"
   ]
  },
  {
   "cell_type": "code",
   "execution_count": null,
   "id": "2138ca02-bdbf-41e4-83bb-7c4a681104c2",
   "metadata": {
    "language": "sql",
    "name": "takeawaydeliveries"
   },
   "outputs": [],
   "source": [
    "CREATE OR REPLACE TABLE MULTI_VEHICLE_OPTIMIZATION AS\n",
    "\n",
    "SELECT *,AI_COMPLETE(\n",
    "\n",
    "model => 'claude-4-sonnet',\n",
    "\n",
    "prompt => CONCAT('create 1 object containing take away food deliveries to customers where all take aways need to be delivered on the 4th june 2025 at random and unique time slots between 1800 and 1900 using this data''', drop_offs::text, 'in New York City based on the following template where the time windows are converted to epoch format,  Vary the setup time to be between 120 and 560 seconds and use the ID column for the Job ID.  the start and end points are based on the following json',restaurant::text, 'which has service time of either 240 or 360 seconds.  the skills value for the vehicles are either 10 or 20.  the skills value for the jobs are either 10 or 20.  Also create 1 object containing', {{number_of_vehicles}} ,' vehicles with the profile of driving-car that will start work on the 4th June 2025 at 1730 and will need to return back to the restaurant at 2100 on the same day. populate the start and end arrays to reflect this.  the start array is an array of longitude and latitude coordinates.  the end array is an array of longitude and latitude coordinates.  the time windows are in epoch format.  location is an array containing two numeric values, longitude and latitude.' ),\n",
    "model_parameters=>\n",
    "    {\n",
    "        'temperature': 0,\n",
    "        'max_tokens': 8000},\n",
    "response_format=>{\n",
    "            'type':'json',\n",
    "            'schema':{'type' : 'object','properties' :\n",
    "{'job_vehicles':{'type':'array','items':\n",
    "\n",
    "{'jobs':{'type':'array','items':{'type':'object','properties':\n",
    "            {'capacity' : {'type' : 'array'},\n",
    "            'setup': {'type':'number'},\n",
    "            --'service': {'type':'number'},\n",
    "            'id':{'type':'number'}, \n",
    "            'location':{'type':'array'},\n",
    "            'skills':{'type':'array'},\n",
    "            'time_window':{'type':'array'}\n",
    "            },\n",
    "            'required':['capacity','setup','skills','time_window''id','location']}},\n",
    "            \n",
    "'vehicles':{'type':'array','items':{'type':'object','properties':\n",
    "            {'capacity' : {'type' : 'array'},\n",
    "            'start': {'type':'array'},\n",
    "            'end': {'type':'array'},\n",
    "            'service': {'type':'number'},\n",
    "            'id':{'type':'number'}, \n",
    "            'location':{'type':'array'}, \n",
    "            'skills':{'type':'array'},\n",
    "            'profile':{'type':'string'},\n",
    "            'time_window':{'type':'array'}\n",
    "            },'required':['capacity','skills','start','end','service','id','location','profile','time_window']\n",
    "            }}\n",
    "            \n",
    "            }\n",
    "   \n",
    "    }}}}\n",
    ") JOBS  FROM\n",
    "\n",
    "(select *  from {{take_away}}) ;\n",
    "\n",
    "SELECT *, jobs:job_vehicles[0]:jobs, jobs:job_vehicles[0]:vehicles FROM MULTI_VEHICLE_OPTIMIZATION "
   ]
  },
  {
   "cell_type": "markdown",
   "id": "cac5d9e7-18ce-498c-9d3f-f4538b67448f",
   "metadata": {
    "collapsed": false,
    "name": "head_view_vehicles_jobs"
   },
   "source": [
    "Lets now expand the jobs and vehicles so we can see what has been created."
   ]
  },
  {
   "cell_type": "code",
   "execution_count": null,
   "id": "c6eb4bae-e3fd-4ed0-86fb-549a17bd54d1",
   "metadata": {
    "language": "python",
    "name": "view_generated_jobs_vehicles"
   },
   "outputs": [],
   "source": [
    "import streamlit as st\n",
    "from snowflake.snowpark.context import get_active_session\n",
    "session = get_active_session()\n",
    "\n",
    "from snowflake.snowpark.functions import *\n",
    "\n",
    "vehicles = session.table('MULTI_VEHICLE_OPTIMIZATION').join_table_function('flatten',col('JOBS')['job_vehicles'][0]['vehicles']).select('VALUE')  #select value from {{take_away_deliveries}}, lateral flatten (JOBS:vehicles)\n",
    "jobs = session.table('MULTI_VEHICLE_OPTIMIZATION').join_table_function('flatten',col('JOBS')['job_vehicles'][0]['jobs']).select('VALUE')\n",
    "\n",
    "col1,col2 = st.columns(2)\n",
    "\n",
    "with col1:\n",
    "    jobs\n",
    "with col2:\n",
    "    vehicles\n"
   ]
  },
  {
   "cell_type": "markdown",
   "id": "9c0dbf74-c0de-49db-9054-8e1f59bdbd37",
   "metadata": {
    "collapsed": false,
    "name": "vehicle_optimization"
   },
   "source": [
    "You will now run the optimization service based on these jobs and available vehicles.  Again, having the geometry field present will depend on whether you chose to use the native app or the external integration api functions."
   ]
  },
  {
   "cell_type": "code",
   "execution_count": null,
   "id": "c513e774-532c-45a4-84f0-002b7fe18990",
   "metadata": {
    "language": "sql",
    "name": "optimization_takeaway"
   },
   "outputs": [],
   "source": [
    "select *, {{database}}.CORE.OPTIMIZATION(\n",
    "    JOBS:job_vehicles[0]:jobs, \n",
    "   JOBS:job_vehicles[0]:vehicles) \n",
    " OPTIMIZATION from MULTI_VEHICLE_OPTIMIZATION"
   ]
  },
  {
   "cell_type": "markdown",
   "id": "1ffb6554-347a-437c-933c-06f1cd3ceab4",
   "metadata": {
    "collapsed": false,
    "name": "cell1"
   },
   "source": [
    "this sql runs the directions service if there is no geometry provided.  If the native app is used, this part will be skipped."
   ]
  },
  {
   "cell_type": "code",
   "execution_count": null,
   "id": "ec68694d-c542-4148-9972-56f0d639a239",
   "metadata": {
    "codeCollapsed": false,
    "collapsed": false,
    "language": "sql",
    "name": "multi_vehicle"
   },
   "outputs": [],
   "source": [
    "WITH FlattenedData AS (\n",
    "    \n",
    "    select a.*,b.profile from \n",
    "    (SELECT\n",
    "        restaurant:coordinates[0]::float AS lon,\n",
    "        restaurant:coordinates[1]::float AS lat,\n",
    "        value:vehicle AS VEHICLE_ID,\n",
    "        value:cost AS COST,\n",
    "        value:duration AS DURATION,\n",
    "        value:distance AS DISTANCE,\n",
    "        value:geometry AS GEOMETRY, -- Original GEOMETRY column\n",
    "        value:steps AS STEPS         -- Original STEPS column (assumed to be an array of objects)\n",
    "    FROM\n",
    "        {{optimization_takeaway}},\n",
    "    LATERAL FLATTEN (optimization:routes)) a inner join\n",
    "\n",
    "    (select value:id ID, \n",
    "            value:profile::TEXT PROFILE \n",
    "            from multi_vehicle_optimization,\n",
    "    lateral flatten(JOBS:job_vehicles[0]:vehicles)) b \n",
    "    \n",
    "    on a.VEHICLE_ID = b.ID\n",
    ")\n",
    "SELECT\n",
    "    lon,\n",
    "    lat,\n",
    "    VEHICLE_ID,\n",
    "    COST,\n",
    "    STEPS,\n",
    "    DURATION,\n",
    "    DISTANCE,\n",
    "    PROFILE,\n",
    "    CASE\n",
    "        WHEN GEOMETRY IS NULL THEN\n",
    "            -- Use REDUCE to aggregate all 'location' objects from the STEPS array into a new array.\n",
    "            {{database}}.core.directions(PROFILE,OBJECT_CONSTRUCT('coordinates',REDUCE(\n",
    "                STEPS,\n",
    "                ARRAY_CONSTRUCT(), -- Initial state: an empty array\n",
    "                (acc, curr) -> ARRAY_APPEND(acc, curr:location)\n",
    "            ))):features[0]:geometry:coordinates\n",
    "        ELSE GEOMETRY -- Use the original GEOMETRY when it's not NULL\n",
    "    END AS GEOMETRY -- This column will now contain an array of locations if original GEOMETRY was NULL\n",
    "FROM\n",
    "    FlattenedData;\n"
   ]
  },
  {
   "cell_type": "code",
   "execution_count": null,
   "id": "4929bf96-575f-43d5-bd54-7bbde016aba8",
   "metadata": {
    "codeCollapsed": false,
    "collapsed": true,
    "language": "sql",
    "name": "python_data"
   },
   "outputs": [],
   "source": [
    "CREATE  or replace table PYTHON_MULTI_VEHICLE_CODE AS\n",
    "\n",
    "select replace(replace(AI_COMPLETE('claude-4-sonnet', '''\n",
    "\n",
    "\n",
    "use the supplied pandas dataframe called routesdf.\n",
    "\n",
    "create a record called location which is the first row from the routesdf dataframe.\n",
    "\n",
    "create a variable called LAT which is a column called LAT in location. this is a float data type. \n",
    "create a variable called LON which is a column called LON in location.  this is a float data type. \n",
    "\n",
    "create a streamlit mulit selector named select_route to filter each vehicle.  valid values are in the VEHICLE_ID column. Each value is numeric.  Add a default value which will be the first available column.\n",
    "\n",
    "create a dataframe called filtered_route_df by filtering the routesdf dataframe based on the select_route selector.\n",
    "\n",
    "create a new column called color and add a unique colour in RGB format.  This needs to be in an array.\n",
    "\n",
    "transform the GEOMETRY field by converting the contents into an array using json.loads.\n",
    "\n",
    "\n",
    "Create a path layer.  Each path represents a vehicle is coming from rows within the filtered_route_df dataframe.   the column name will be called GEOMETRY the data format for each line is like this [[lon, lat],[lon,lat]].  set pickable to false on this layer.  Color each path based on the color field.\n",
    "\n",
    "\n",
    "Select the first value for both LON and LAT.  Each row of the data represents a vehicle.  \n",
    "\n",
    "create a second layer which is a scatter plot layer which shows the resturant location.  this is determined by the the variables LAT and LON.  each variable DOES NOT need to be parsed. set this layer as not pickable.\n",
    "\n",
    "create a dataframe called stepsdf which needs to be flattened.  get the data from the STEPS column in filtered_route_df. parse the column and flatten to reveal multiple records. create a column for each object.  keep the VEHICLE_ID in the dataframe.\n",
    "the position is in a location column that looks like this [lon,lat]. the same data frame will have a column called id.\n",
    "\n",
    "join this data frame with a data frame called people and join by the id column.  put the people columns first and the steps data second.\n",
    "\n",
    "\n",
    "create a third layer which is a scatter plot layer which uses the stepdf dataframe.  get this data from the stepsdf.  Colour each point the same colour as their delivery vehicle. make this layer pickable\n",
    "\n",
    "\n",
    "create a tooltip to use with the scatter plot layer which will create a heading and value nicely formatted containing all the information from the stepdf dataframe.  \n",
    "\n",
    "give the tool tip a heading called job details. Ensure the parameters only have 3 braces.  make the background color blue and slightly transparent.\n",
    "\n",
    "create a view state which uses the variable LAT and LON and the map style is None.\n",
    "\n",
    "Under the map, create a legend to show the color of each vehicle.  state the PROFILE for each vehicle.  this is named in in the routesdf column called PROFILE.\n",
    "\n",
    "return only python''' )::TEXT,'```',''),'python','') PYTHON;\n",
    "\n",
    "SELECT * FROM PYTHON_MULTI_VEHICLE_CODE"
   ]
  },
  {
   "cell_type": "code",
   "execution_count": null,
   "id": "c7a165e2-0bef-440a-ba3f-aeec58df2ef1",
   "metadata": {
    "codeCollapsed": false,
    "collapsed": false,
    "language": "python",
    "name": "render_multi_vehicle_streamlit"
   },
   "outputs": [],
   "source": [
    "from snowflake.snowpark.functions import *\n",
    "routesdf = multi_vehicle.to_pandas()\n",
    "people = session.table('sample_customers').select(col('ID').alias('\"id\"'),col('NAME'),col('EMAIL')).to_pandas()\n",
    "\n",
    "python = session.table('PYTHON_MULTI_VEHICLE_CODE').collect()[0][0]\n",
    "\n",
    "with st.expander('Python Code'):\n",
    "    st.code(python)\n",
    "exec(python)"
   ]
  },
  {
   "cell_type": "markdown",
   "id": "3563ff00-58f7-4ad0-a7e4-558dd726a939",
   "metadata": {
    "collapsed": false,
    "name": "heading_isochrone",
    "resultHeight": 47
   },
   "source": [
    "## Isochrone Function.  \n",
    "This is to create a polygon which creates a catchment boundary based on how long it would take to get there.  Orders may only be accepted if you can fullfill them based on how quickly drivers can get anywhere within a given timeframe.  Isochrones could be utilised for other usecases outside of route optimization such as market analysis in a given catchment.\n",
    "\n",
    "The function is then tested by focussing on a specific point.  It will generate a polygon which represents everywhere a driver can get to within a 20 minute timeframe."
   ]
  },
  {
   "cell_type": "code",
   "execution_count": null,
   "id": "c394d678-28b2-4d84-8dd6-9b748fa8b9d5",
   "metadata": {
    "language": "sql",
    "name": "geocode_summit_address"
   },
   "outputs": [],
   "source": [
    "CREATE or replace table GEOCODE_NEW_YORK_OFFICE AS \n",
    "SELECT parse_json(replace(replace(AI_COMPLETE('claude-4-sonnet', 'give me the lat and lon for the snowflake office - 114 W 41st St, Suite 1701, New York, NY 10036.  return the result as a json string'),'```',''),'json','')) NEW_YORK_OFFICE;\n",
    "\n",
    "SELECT * FROM GEOCODE_NEW_YORK_OFFICE"
   ]
  },
  {
   "cell_type": "code",
   "execution_count": null,
   "id": "ce320721-093a-4b9b-951d-94342c71d67a",
   "metadata": {
    "collapsed": false,
    "language": "sql",
    "name": "isochrones_try",
    "resultHeight": 111
   },
   "outputs": [],
   "source": [
    "CREATE or replace table GEOCODE_NEW_YORK_OFFICE AS \n",
    "SELECT parse_json(replace(replace(AI_COMPLETE('claude-4-sonnet', 'give me the lat and lon for the snowflake office - 114 W 41st St, Suite 1701, New York, NY 10036.  return the result as a json string'),'```',''),'json','')) NEW_YORK_OFFICE;\n",
    "\n",
    "\n",
    "CREATE OR REPLACE TABLE ISOCHRONE_DRIVING AS \n",
    "\n",
    "select \n",
    "\n",
    "NEW_YORK_OFFICE:longitude::float LON,\n",
    "NEW_YORK_OFFICE:latitude::float LAT,\n",
    "NEW_YORK_OFFICE:address::text ADDRESS,\n",
    "{{database}}.CORE.ISOCHRONES('cycling-road', LON,LAT, 20) DATA_CYCLE, \n",
    "\n",
    "{{database}}.CORE.ISOCHRONES('driving-car', LON,LAT, 20) DATA_CAR, \n",
    "\n",
    "TO_GEOGRAPHY(DATA_CYCLE:features[0]:geometry) GEO_CYCLE, \n",
    "TO_GEOGRAPHY(DATA_CAR:features[0]:geometry) GEO_CAR, \n",
    "ST_MAKEPOINT(LON,LAT) CENTROID\n",
    "\n",
    "from GEOCODE_NEW_YORK_OFFICE\n",
    ";\n",
    "\n",
    "SELECT * FROM ISOCHRONE_DRIVING"
   ]
  },
  {
   "cell_type": "markdown",
   "id": "e5c2cc7a-a3a8-4608-a082-0ab362d253f5",
   "metadata": {
    "collapsed": false,
    "name": "heading_view_iscochrone"
   },
   "source": [
    "This is an example of what an isochrone looks like in pydeck."
   ]
  },
  {
   "cell_type": "code",
   "execution_count": null,
   "id": "ce111da6-95a2-427a-be7e-762ce06884eb",
   "metadata": {
    "codeCollapsed": true,
    "collapsed": false,
    "language": "python",
    "name": "view_iscochrone"
   },
   "outputs": [],
   "source": [
    "import streamlit as st\n",
    "from snowflake.snowpark.context import get_active_session\n",
    "from snowflake.snowpark.functions import *\n",
    "from snowflake.snowpark.types import *\n",
    "import pandas as pd\n",
    "import pydeck as pdk\n",
    "import json\n",
    "session = get_active_session()\n",
    "\n",
    "\n",
    "data = isochrones_try.to_df().select('GEO_CYCLE','GEO_CAR','LON','LAT','ADDRESS').to_pandas()\n",
    "LAT = data.LAT.iloc[0]\n",
    "LON = data.LON.iloc[0]\n",
    "data[\"cyclecoords\"] = data[\"GEO_CYCLE\"].apply(lambda row: json.loads(row)[\"coordinates\"])\n",
    "data[\"carcoords\"] = data[\"GEO_CAR\"].apply(lambda row: json.loads(row)[\"coordinates\"])\n",
    "\n",
    "isochrone = pdk.Layer(\n",
    "\"PolygonLayer\",\n",
    "data,\n",
    "opacity=0.2,\n",
    "get_polygon=\"cyclecoords\",\n",
    "filled=True,\n",
    "get_line_color=[17,86,127],\n",
    "get_fill_color=[250, 203, 156],\n",
    "get_line_width=10,\n",
    "line_width_min_pixels=4,\n",
    "auto_highlight=True,\n",
    "pickable=False)\n",
    "\n",
    "isochrone2 = pdk.Layer(\n",
    "\"PolygonLayer\",\n",
    "data,\n",
    "opacity=0.5,\n",
    "get_polygon=\"carcoords\",\n",
    "filled=True,\n",
    "get_line_color=[41,181,232],\n",
    "get_fill_color=[200,230,242],\n",
    "get_line_width=10,\n",
    "line_width_min_pixels=6,\n",
    "auto_highlight=True,\n",
    "pickable=False)\n",
    "\n",
    "supplier = pdk.Layer(\n",
    "    'ScatterplotLayer',\n",
    "    data=data,\n",
    "    pickable=True,\n",
    "    filled=True,\n",
    "    stroked=True,\n",
    "    opaciity=0.1,\n",
    "    get_position=['LON', 'LAT'],\n",
    "    get_color=[255, 0, 0],\n",
    "    line_width_min_pixels=2,\n",
    "    get_line_color=[0, 0, 0],\n",
    "    get_radius=300,\n",
    "    \n",
    ")\n",
    "view_state = pdk.ViewState(latitude=LAT, longitude=LON, zoom=10)\n",
    "st.pydeck_chart(pdk.Deck(layers=[isochrone2,isochrone,supplier],tooltip={\"text\":'Address: {ADDRESS}'},map_style=None,initial_view_state=view_state,height=900))"
   ]
  },
  {
   "cell_type": "markdown",
   "id": "f05f7669-4a46-43ca-bfcb-0747c9ab3678",
   "metadata": {
    "collapsed": false,
    "name": "optimal_base_table"
   },
   "source": [
    "## CARTO OVERTURE MAPS PLACES DATA FOR NEW YORK\n",
    "\n",
    "Create a base table with search optimization to filter quickly on categories and geographies\n",
    "\n",
    "Here we are using the places dataset which is provided by carto overture maps.  We are copying the data to add search optimization on the categories of place as well as the geography.  We will be leveraging the 'Search' function in the app to search through columns that may be relevant to the selected industry."
   ]
  },
  {
   "cell_type": "code",
   "execution_count": null,
   "id": "26fbc9f0-734f-4d39-8bf9-abc34a14a305",
   "metadata": {
    "language": "sql",
    "name": "add_carto_data"
   },
   "outputs": [],
   "source": [
    "CREATE OR REPLACE TABLE NEW_YORK_DATA AS SELECT * FROM OVERTURE_MAPS__PLACES.CARTO.PLACE\n",
    "\n",
    "WHERE ST_GEOHASH(GEOMETRY,2) = 'dr';\n",
    "\n",
    "SELECT * FROM NEW_YORK_DATA LIMIT 10;"
   ]
  },
  {
   "cell_type": "code",
   "execution_count": null,
   "id": "2ec991e4-c771-4c5a-924f-a1f7817ccc6e",
   "metadata": {
    "codeCollapsed": false,
    "collapsed": true,
    "language": "sql",
    "name": "SEARCH_optimization"
   },
   "outputs": [],
   "source": [
    "CREATE TABLE IF NOT EXISTS VEHICLE_ROUTING_SIMULATOR.DATA.PLACES as \n",
    "\n",
    "select \n",
    "\n",
    "any_value(GEOMETRY) GEOMETRY,\n",
    "\n",
    "PHONES:list[0]['element']::text PHONES,\n",
    "CATEGORIES:primary::text CATEGORY,\n",
    "NAMES:primary::text NAME,\n",
    "ADDRESSES:list[0]['element'] ADDRESS,\n",
    "\n",
    "array_agg(value:element) as ALTERNATE \n",
    "\n",
    "from\n",
    "\n",
    "(SELECT PHONES,CATEGORIES,NAMES,ADDRESSES,GEOMETRY,\n",
    "\n",
    "categories:alternate:list AS LIST\n",
    "\n",
    "from NEW_YORK_DATA), \n",
    "\n",
    "--where CATEGORIES:primary is not null),\n",
    "LATERAL FLATTEN(LIST) GROUP BY ALL;\n",
    "\n",
    "ALTER TABLE DATA.places ADD SEARCH OPTIMIZATION ON EQUALITY(ALTERNATE);\n",
    "ALTER TABLE DATA.places ADD SEARCH OPTIMIZATION ON GEO(GEOMETRY);\n",
    "\n",
    "SELECT * FROM DATA.PLACES limit 3"
   ]
  },
  {
   "cell_type": "code",
   "execution_count": null,
   "id": "05db8bf0-33f0-4af6-8fdc-d07e200813ab",
   "metadata": {
    "codeCollapsed": false,
    "collapsed": false,
    "language": "python",
    "name": "sample_carto_data"
   },
   "outputs": [],
   "source": [
    "sql = '''select * from ( select ST_X(GEOMETRY) LON, ST_Y(GEOMETRY) LAT from VEHICLE_ROUTING_SIMULATOR.DATA.PLACES where category = 'hotel') sample (5000 rows)'''\n",
    "\n",
    "st.map(session.sql(sql))"
   ]
  },
  {
   "cell_type": "code",
   "execution_count": null,
   "id": "e3372734-fd5f-49ce-9b9e-35574598ea42",
   "metadata": {
    "collapsed": false,
    "language": "sql",
    "name": "places_on_isochrone"
   },
   "outputs": [],
   "source": [
    "CREATE OR REPLACE TABLE HOTELS_IN_ISOCHRONE AS \n",
    "select A.* EXCLUDE (GEOMETRY),B.* EXCLUDE(GEO_CAR),ST_X(GEOMETRY) LON,ST_Y(GEOMETRY) LAT, B.GEO_CAR GEO \n",
    "\n",
    "\n",
    "from VEHICLE_ROUTING_SIMULATOR.DATA.PLACES A INNER JOIN\n",
    "\n",
    "\n",
    "(select GEO_CAR from ISOCHRONE_DRIVING) B ON\n",
    "\n",
    "ST_WITHIN(TO_GEOGRAPHY(A.GEOMETRY),TO_GEOGRAPHY(B.GEO_CAR))\n",
    "\n",
    "where CATEGORY = 'hotel';\n",
    "\n",
    "select * from HOTELS_IN_ISOCHRONE"
   ]
  },
  {
   "cell_type": "markdown",
   "id": "9382c9dd-4f0e-4975-bb49-047c74297992",
   "metadata": {
    "collapsed": false,
    "name": "scatter_head"
   },
   "source": [
    "Here, we are using the Scatter Plot layer to only view places by the isochrone "
   ]
  },
  {
   "cell_type": "code",
   "execution_count": null,
   "id": "65c5f59b-16b3-4d35-b983-9bb022f6a5eb",
   "metadata": {
    "codeCollapsed": false,
    "collapsed": true,
    "language": "python",
    "name": "prompt_multi_layer_isochrone"
   },
   "outputs": [],
   "source": [
    "prompt = '''\n",
    "\n",
    "        build a multi layer pydeck map python code.\n",
    "        \n",
    "        layer 1 - this is a polygon layer.  there is a table called ISOCHRONE_DRIVING. \n",
    "        Retrieve the table using a snowpark data frame and formulate it appropiately to create\n",
    "        a polygon layer.  in this table use the column called GEO_CAR.  this column has a geography datatype. \n",
    "        convert this into a pandas dataframe\n",
    "\n",
    "        use a lambda function to extract the coordinates from the GEO_CAR column which will now be a string in pandas.\n",
    "        \n",
    "        This layer is NOT pickable.\n",
    "\n",
    "        layer 2 - this is a polygon layer.  use the same table as layer 1 called ISOCHRONE_DRIVING. \n",
    "        Retrieve the table using a snowpark data frame and formulate it appropiately to create\n",
    "        a polygon layer.  This time, use the column called GEO_CYCLE.  this column has a geography datatype. \n",
    "        convert this into a pandas dataframe\n",
    "\n",
    "        use a lambda function to extract the coordinates from the GEO_CYCLE column which will now be a string in pandas.\n",
    "        \n",
    "        This layer is NOT pickable.\n",
    "        \n",
    "        layer 3 - this is a scatterplot layer.  \n",
    "        there is a table called HOTELS_IN_ISOCHRONE.  in here there is a column called LAT and a column called LON.\n",
    "        size the points so they pinpoint hotels on a map easily within the city of New York.\n",
    "        return the map as a streamlit map.  the session is the active session as it will be run in Snowflake in Streamlit.\n",
    "        The map style is none\n",
    "        This layer IS pickable\n",
    "        Return only the python\n",
    "        \n",
    "        For layer 3 create a tooltip.  the tool tip will have the following: \n",
    "        The hotel name using the column NAME \n",
    "        The address which is in a json variant in a column called ADDRESS.  \n",
    "        Use snowpark to extract out all the columns called country, freeform, locality, postcode and region\n",
    "        change the datatype to all the address columns to StringType\n",
    "        in the\n",
    "        Address object into text columns and add all values to the tooltip.\n",
    "        The phone number which is in a column called PHONES\n",
    "        use icons in the tooltip where appropiate.\n",
    "        Ensure all text within the tooltip is visible.\n",
    "        when the right columns are extracted in snowpark convert to a pandas data frame and use this for the layer\n",
    "        \n",
    "        Format the look and feel to make it look like the map was made for the\n",
    "        Snowflake World Tour Event in New York 2025.  make the polygon layer visible\n",
    "        render the height of the st.pydeck as 900\n",
    "        add a title relating to snowflake\n",
    "        add a description regarding viewing hotels near by.\n",
    "        MAKE ALL ALIASES IN UPPER CASE\n",
    "        \n",
    "        do not add cache data in the streamlit code'''\n",
    "\n",
    "df = session.create_dataframe([{'prompt':prompt}])\n",
    "\n",
    "df = df.with_column('python',call_function('AI_COMPLETE','claude-4-sonnet',col('prompt')).astype(StringType()))\n",
    "df.write.mode('overwrite').\\\n",
    "save_as_table(\"ISOCHRONE_PYTHON_CODE\")\n",
    "df = session.table('ISOCHRONE_PYTHON_CODE')"
   ]
  },
  {
   "cell_type": "code",
   "execution_count": null,
   "id": "67a1dec7-0830-4441-a798-72349135015d",
   "metadata": {
    "codeCollapsed": true,
    "collapsed": false,
    "language": "python",
    "name": "render_iscochrone"
   },
   "outputs": [],
   "source": [
    "df1 = df.select(replace(replace('PYTHON',lit('```'),lit('')),lit('python'),lit('')))\n",
    "with st.expander('code'):\n",
    "    st.code(df1.collect()[0][0])\n",
    "\n",
    "with st.container(height=1000):\n",
    "    exec(df1.collect()[0][0])"
   ]
  },
  {
   "cell_type": "markdown",
   "id": "f8284a29-bc69-4916-9863-2a10f2ffef0a",
   "metadata": {
    "collapsed": false,
    "name": "heading_base_data"
   },
   "source": [
    "## Create Base Data Table for App\n",
    "Now we will focus on putting components together for a streamlit application.  We are aiming to create a dynamic routing analyser.  For this, we will need to generate jobs, vehicles and depots based on any location in the world.  Carto overture maps will help as it contains points of interests anywhere in the world. Cortex complete is also used for a simple 'geocoding' mechanism where a user will type in a key word and cortex will generate the coordinates that matches what central location the user wants to base the routing against"
   ]
  },
  {
   "cell_type": "markdown",
   "id": "f093ec46-d9a0-4690-b52a-ad7732d947d0",
   "metadata": {
    "collapsed": false,
    "name": "heading_job_template"
   },
   "source": [
    "#### 1. Job Template\n",
    "This template will be used to simulate jobs.  You can change the base values in this notebook - which will effect what sample jobs will be generated.  This template generates a sample of 29 jobs.  The location of these jobs and industry will be dynamic and depends on user interaction with the app."
   ]
  },
  {
   "cell_type": "code",
   "execution_count": null,
   "id": "7b9e47ce-24b9-4efd-a2c1-cd8557bd16a0",
   "metadata": {
    "codeCollapsed": false,
    "collapsed": false,
    "language": "sql",
    "name": "insert_rows"
   },
   "outputs": [],
   "source": [
    "CREATE OR REPLACE TABLE VEHICLE_ROUTING_SIMULATOR.DATA.JOB_TEMPLATE (\n",
    "\n",
    "ID INT AUTOINCREMENT PRIMARY KEY,\n",
    "slot_start INT NOT NULL,\n",
    "slot_end INT,\n",
    "skills INT,\n",
    "product STRING,\n",
    "status STRING DEFAULT 'active'\n",
    "\n",
    ");\n",
    "\n",
    "\n",
    "INSERT INTO VEHICLE_ROUTING_SIMULATOR.DATA.JOB_TEMPLATE (slot_start, slot_end, skills, product, status) VALUES\n",
    "(9, 10, 1, 'pa', 'active'),\n",
    "(11, 15, 2, 'pb', 'active'),\n",
    "(16, 18, 2, 'pb', 'active'),\n",
    "(11, 13, 3, 'pc', 'active'),\n",
    "(7, 16, 3, 'pc', 'active'),\n",
    "(10, 15, 2, 'pa', 'active'),\n",
    "(10, 15, 2, 'pa', 'active'),\n",
    "(7, 16, 1, 'pa', 'active'),\n",
    "(9, 18, 2, 'pb', 'active'),\n",
    "(13, 18, 2, 'pb', 'active'),\n",
    "(13, 18, 2, 'pb', 'active'),\n",
    "(13, 18, 1, 'pa', 'active'),\n",
    "(13, 18, 1, 'pa', 'active'),\n",
    "(13, 18, 1, 'pa', 'active'),\n",
    "(13, 18, 3, 'pc', 'active'),\n",
    "(11, 15, 2, 'pb', 'active'),\n",
    "(16, 18, 2, 'pb', 'active'),\n",
    "(11, 13, 1, 'pa', 'active'),\n",
    "(7, 16, 1, 'pa', 'active'),\n",
    "(10, 15, 2, 'pb', 'active'),\n",
    "(10, 15, 2, 'pb', 'active'),\n",
    "(7, 16, 1, 'pa', 'active'),\n",
    "(9, 18, 2, 'pb', 'active'),\n",
    "(13, 18, 2, 'pb', 'active'),\n",
    "(13, 18, 2, 'pb', 'active'),\n",
    "(13, 18, 1, 'pa', 'active'),\n",
    "(13, 18, 1, 'pa', 'active'),\n",
    "(13, 18, 1, 'pa', 'active'),\n",
    "(13, 18, 3, 'pc', 'active');\n",
    "\n",
    "SELECT * FROM VEHICLE_ROUTING_SIMULATOR.DATA.JOB_TEMPLATE"
   ]
  },
  {
   "cell_type": "markdown",
   "id": "0f22a581-408f-44fb-91a3-6327d40ef657",
   "metadata": {
    "collapsed": false,
    "name": "example_search"
   },
   "source": [
    "#### Below are all the categories you could use to simulate distribution points\n",
    "The app will search through names, categories and alternative categories in order to retrieve the relevant data"
   ]
  },
  {
   "cell_type": "code",
   "execution_count": null,
   "id": "c4c0f773-41fd-4083-bf4f-4cce05140971",
   "metadata": {
    "collapsed": false,
    "language": "sql",
    "name": "all_categories"
   },
   "outputs": [],
   "source": [
    "SELECT DISTINCT CATEGORY FROM (\n",
    "select DISTINCT VALUE::TEXT CATEGORY FROM VEHICLE_ROUTING_SIMULATOR.DATA.PLACES, LATERAL FLATTEN (ALTERNATE)\n",
    "\n",
    "UNION \n",
    "\n",
    "SELECT DISTINCT CATEGORY FROM VEHICLE_ROUTING_SIMULATOR.DATA.PLACES) WHERE SEARCH((CATEGORY),'food')"
   ]
  },
  {
   "cell_type": "markdown",
   "id": "e573e63b-c14e-4ac4-8581-299a17841652",
   "metadata": {
    "collapsed": false,
    "name": "lookup_heading"
   },
   "source": [
    "### 4. Creating an Industry Lookup\n",
    "\n",
    "Depending on the selected industry, the app will 'lookup' specifics in order to retrieve/ filter the right information.  It is also used to generate relevant product categories. In this notebook, more industries can be added."
   ]
  },
  {
   "cell_type": "code",
   "execution_count": null,
   "id": "f3b8a90d-4002-4e0b-8fc1-f1c8ad95d108",
   "metadata": {
    "collapsed": false,
    "language": "sql",
    "name": "industry"
   },
   "outputs": [],
   "source": [
    "CREATE OR REPLACE TABLE VEHICLE_ROUTING_SIMULATOR.DATA.LOOKUP (\n",
    "    INDUSTRY STRING,\n",
    "    PA STRING,\n",
    "    PB STRING,\n",
    "    PC STRING,\n",
    "    IND ARRAY,\n",
    "    IND2 ARRAY,\n",
    "    CTYPE ARRAY,\n",
    "    STYPE ARRAY\n",
    ");\n",
    "\n",
    "INSERT INTO VEHICLE_ROUTING_SIMULATOR.DATA.LOOKUP (INDUSTRY, PA, PB, PC, IND,IND2, CTYPE, STYPE) \n",
    "SELECT\n",
    "    'healthcare', \n",
    "    'flammable', \n",
    "    'sharps', \n",
    "    'temperature-controlled', \n",
    "    ARRAY_CONSTRUCT('hospital health pharmaceutical drug healthcare pharmacy surgical'), \n",
    "    ARRAY_CONSTRUCT('supplies warehouse depot distribution wholesaler distributors'), \n",
    "    ARRAY_CONSTRUCT('hospital', 'family_practice', 'dentist','pharmacy'), \n",
    "    ARRAY_CONSTRUCT('Can handle potentially explosive goods', 'Can handle instruments that could be used as weapons', 'Has a fridge')\n",
    "UNION ALL\n",
    "SELECT\n",
    "    'Food', \n",
    "    'Fresh Food Order', \n",
    "    'Frozen Food Order', \n",
    "    'Non Perishable Food Order', \n",
    "    ARRAY_CONSTRUCT('food vegatables meat vegatable'),\n",
    "    ARRAY_CONSTRUCT('wholesaler warehouse factory processing distribution distributors'), \n",
    "    ARRAY_CONSTRUCT('supermarket', 'restaurant', 'butcher_shop'), \n",
    "    ARRAY_CONSTRUCT('Can deliver Fresh Food', 'Has a Fridge', 'Premium Delivery')\n",
    "UNION ALL\n",
    "SELECT\n",
    "    'Cosmetics', \n",
    "    'Hair Products', \n",
    "    'Electronic Goods', \n",
    "    'Make-up', \n",
    "    ARRAY_CONSTRUCT('hair cosmetics make-up beauty'),\n",
    "    ARRAY_CONSTRUCT('wholesaler warehouse factory supplies distribution distributors'), \n",
    "    ARRAY_CONSTRUCT('supermarket', 'outlet', 'fashion'), \n",
    "    ARRAY_CONSTRUCT('Can deliver Fresh Food', 'Has a Fridge', 'Premium Delivery')\n",
    "\n",
    "    ;\n",
    "SELECT * FROM VEHICLE_ROUTING_SIMULATOR.DATA.LOOKUP"
   ]
  },
  {
   "cell_type": "markdown",
   "id": "3c52f35c-85d4-4edc-9156-57a2c72dc8c6",
   "metadata": {
    "collapsed": false,
    "name": "heading_example_jtemplate"
   },
   "source": [
    "#### Here is an example of how the lookup workes for healthcare for flammable products"
   ]
  },
  {
   "cell_type": "code",
   "execution_count": null,
   "id": "ef077309-e1c3-4f4e-b4ea-b5e1b5c4084e",
   "metadata": {
    "collapsed": false,
    "language": "sql",
    "name": "select_jtemplate_hcare"
   },
   "outputs": [],
   "source": [
    "select * from VEHICLE_ROUTING_SIMULATOR.DATA.JOB_TEMPLATE a \n",
    "\n",
    "inner join\n",
    "\n",
    "(select PA from VEHICLE_ROUTING_SIMULATOR.DATA.LOOKUP where industry = 'healthcare') b\n",
    "\n",
    "on PRODUCT = 'pa'"
   ]
  },
  {
   "cell_type": "markdown",
   "id": "80b066e3-cd48-469b-89b5-f820d3ae1dca",
   "metadata": {
    "collapsed": false,
    "name": "streamlit",
    "resultHeight": 134
   },
   "source": [
    "## Streamlit App\n",
    "\n",
    "Now you have setup the functions and standing data tables, you can now have a go at running the streamlit app.  The streamlit application is an example of what a basic route optimization simulator could look like.  Feel free to make any changes as you see fit.\n",
    "\n",
    "- Within Projects / Streamlit you should see a new application\n",
    "- Click on the app to run the route optimization simulator"
   ]
  }
 ],
 "metadata": {
  "kernelspec": {
   "display_name": "Streamlit Notebook",
   "name": "streamlit"
  },
  "lastEditStatus": {
   "authorEmail": "becky.oconnor@snowflake.com",
   "authorId": "2278340491078",
   "authorName": "USER",
   "lastEditTime": 1750815897493,
   "notebookId": "aer3kozwcr45dxtaagvg",
   "sessionId": "d13a3886-1b32-4274-b644-9ba63dd2dbc4"
  }
 },
 "nbformat": 4,
 "nbformat_minor": 5
}
