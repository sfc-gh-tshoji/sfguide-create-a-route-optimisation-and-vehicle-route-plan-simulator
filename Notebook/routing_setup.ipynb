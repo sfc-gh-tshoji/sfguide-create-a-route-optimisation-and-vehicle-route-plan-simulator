{
 "metadata": {
  "kernelspec": {
   "display_name": "Streamlit Notebook",
   "name": "streamlit"
  },
  "lastEditStatus": {
   "notebookId": "3x6fu67ljhvv4l7biprk",
   "authorId": "363158075132",
   "authorName": "BECKY",
   "authorEmail": "becky.oconnor@snowflake.com",
   "sessionId": "701c651c-671c-4aac-8d3d-d6bd2334b7cb",
   "lastEditTime": 1739564606126
  }
 },
 "nbformat_minor": 5,
 "nbformat": 4,
 "cells": [
  {
   "cell_type": "markdown",
   "id": "f1c11f53-9e8f-4fda-9011-198d1de92c08",
   "metadata": {
    "collapsed": false,
    "name": "title",
    "resultHeight": 115
   },
   "source": "# DYNAMIC ROUTING SIMULATOR\n\nThis takes you step by step for creating a dynamic routing simulator which leverages the Carto Overture Maps, Open Route Service as well as many of the advanced analytical functions within Snowflake.  Let's get started."
  },
  {
   "cell_type": "markdown",
   "id": "0123c108-78e9-4bb7-acfb-739a3f6df7ed",
   "metadata": {
    "collapsed": false,
    "name": "initial_setup",
    "resultHeight": 73
   },
   "source": "## Initial Setup\n\n### Open Route Service API\n- Before you start, sign up for a free open route service account.  Open Route service gives you limited free calls to each service.  If you would like these limitations removed, a local installation is available - which can be hosted in Snowpark Container Services.  For this demonstration, we will leverage the service which is hosted within openrouteservice.org\nhttps://openrouteservice.org/\n- once you have created an open route service account and signed in, create a token.\n\n### Marketplace data for simulation generation\n- go to the market place and search for **Carto Overture Maps**\n- Install the Places dataset and keep the name as it is\n- Grant permissions for the public role"
  },
  {
   "cell_type": "code",
   "execution_count": null,
   "id": "4e120012-cc21-4178-979c-c0caa71cbc2e",
   "metadata": {
    "collapsed": false,
    "language": "sql",
    "name": "privileges_if_not_given",
    "resultHeight": 111
   },
   "outputs": [],
   "source": [
    "GRANT IMPORTED PRIVILEGES ON DATABASE \"OVERTURE_MAPS__PLACES\" TO ROLE PUBLIC"
   ]
  },
  {
   "cell_type": "markdown",
   "id": "a45af813-264c-4bd5-8efc-9442469359e9",
   "metadata": {
    "collapsed": false,
    "name": "heading_secret",
    "resultHeight": 88
   },
   "source": "### CREATE A SECRET\nThe secret provided by open route service requires save storage.  Use the newly created api token for the **SECRET_STRING**. "
  },
  {
   "cell_type": "code",
   "execution_count": null,
   "id": "f35bfd98-cc9b-49ec-83d7-99bad966d6c7",
   "metadata": {
    "collapsed": false,
    "language": "sql",
    "name": "secret",
    "resultHeight": 111
   },
   "outputs": [],
   "source": "CREATE SECRET IF NOT EXISTS UTILS.ROUTING_TOKEN\n  TYPE = GENERIC_STRING\n  SECRET_STRING = '<replace with your secret token>'\n  COMMENT = 'token for routing demo' "
  },
  {
   "cell_type": "markdown",
   "id": "4eb6e1ad-da10-4f0f-84fb-4fab502a2eb1",
   "metadata": {
    "collapsed": false,
    "name": "h_network_rule",
    "resultHeight": 114
   },
   "source": "#### CREATE A NETWORK RULE AND EXTERNAL INTEGRATION\nBefore we call the API, we need to allow external activity from Snowflake to the route service URL.  This is achieved simply through a network rule.  You then create an external access integration - this allows the user to call the api using the predefined secret and only via the allowed network rule.\n\nNext, we need to attach this rule to a new external access integration which in this case, we are calling open_route_api. All of the functions that we will create will refer to this integration."
  },
  {
   "cell_type": "code",
   "execution_count": null,
   "id": "e947a4db-7ab9-4fe6-9e46-bcec0dd70249",
   "metadata": {
    "collapsed": false,
    "language": "sql",
    "name": "network_rule",
    "resultHeight": 111
   },
   "outputs": [],
   "source": [
    "CREATE OR REPLACE NETWORK RULE open_route_api\n",
    "  MODE = EGRESS\n",
    "  TYPE = HOST_PORT\n",
    "  VALUE_LIST = ('api.openrouteservice.org');\n",
    "\n",
    "\n",
    "CREATE OR REPLACE EXTERNAL ACCESS INTEGRATION open_route_integration\n",
    "  ALLOWED_NETWORK_RULES = (open_route_api)\n",
    "  ALLOWED_AUTHENTICATION_SECRETS = all\n",
    "  ENABLED = true;"
   ]
  },
  {
   "cell_type": "markdown",
   "id": "3a146f91-4109-45c1-b393-6eea26af536c",
   "metadata": {
    "name": "heading_api_functions",
    "collapsed": false
   },
   "source": "### Creating API functions which we will use in our app.\nNow we have created the secure integration to the service, we will create functions which we will call in the app.  These functions will call the relevant api within the service needed to perform each task."
  },
  {
   "cell_type": "markdown",
   "id": "cfe5bc3b-5e61-4b27-a609-5573d1ddefbd",
   "metadata": {
    "collapsed": false,
    "name": "heading_simple_directions",
    "resultHeight": 88
   },
   "source": "#### 1.  Simple Directions - allows simple directions from one point to another.\nYou can load multiple start/end points to get directions for multiple places). You also need to specify the method such as driving-car.  This function is leveraging a GET request from the api.  You will note that the function is written in python - the service itself has handy python snippets to help curate the function.  \nclick [here](https://openrouteservice.org/dev/#/api-docs/v2/directions/{profile}/post) to navigate to the directions service playground"
  },
  {
   "cell_type": "code",
   "execution_count": null,
   "id": "6bd076ac-076d-47fb-aa08-190c39c56330",
   "metadata": {
    "collapsed": false,
    "language": "sql",
    "name": "function_simmple_directions",
    "resultHeight": 111
   },
   "outputs": [],
   "source": [
    "CREATE OR REPLACE FUNCTION UTILS.DIRECTIONS (method varchar, jstart array, jend array)\n",
    "RETURNS VARIANT\n",
    "language python\n",
    "runtime_version = 3.9\n",
    "handler = 'get_directions'\n",
    "external_access_integrations = (OPEN_ROUTE_INTEGRATION)\n",
    "PACKAGES = ('snowflake-snowpark-python','requests')\n",
    "SECRETS = ('cred' = UTILS.ROUTING_TOKEN )\n",
    "\n",
    "AS\n",
    "$$\n",
    "import requests\n",
    "import _snowflake\n",
    "def get_directions(method,jstart,jend):\n",
    "    request = f'''https://api.openrouteservice.org/v2/directions/{method}'''\n",
    "    key = _snowflake.get_generic_secret_string('cred')\n",
    "\n",
    "    PARAMS = {'api_key':key,\n",
    "            'start':f'{jstart[0]},{jstart[1]}', 'end':f'{jend[0]},{jend[1]}'}\n",
    "\n",
    "    r = requests.get(url = request, params = PARAMS)\n",
    "    response = r.json()\n",
    "    \n",
    "    return response\n",
    "$$;"
   ]
  },
  {
   "cell_type": "markdown",
   "id": "f1fc409b-2232-4391-b236-acda5822bb9c",
   "metadata": {
    "name": "running_directions_function",
    "collapsed": false
   },
   "source": "Here is how to call the function.  This will return a json object.  You will notice that I have already navigated to the features[0]:geometry part of the object.  The reason why features nested in an array is because you can call the api to retrieve multiple directions.  Standard semi structured support allows me to extract key pieces of informaton out."
  },
  {
   "cell_type": "code",
   "execution_count": null,
   "id": "c164fa24-83a1-4c15-b9c2-c145479054e5",
   "metadata": {
    "collapsed": false,
    "language": "sql",
    "name": "directions_try_out",
    "resultHeight": 111
   },
   "outputs": [],
   "source": "\nselect  GEO:features[0]:geometry GEO, \nGEO:features[0]:properties:segments INSTRUCTIONS, \nDIV0(GEO:features[0]:properties:summary:distance::FLOAT,1000) DISTANCE_KM,\nDIV0(GEO:features[0]:properties:summary:duration::FLOAT,60) DURATION_MINS\n\nfrom\n\n(select UTILS.directions('driving-car',[-2.263796,52.344367],[0.0813,51.5186]) GEO)\n"
  },
  {
   "cell_type": "markdown",
   "id": "706acdb6-393f-472c-9126-b8a8628d35eb",
   "metadata": {
    "name": "heading_example_pydeck",
    "collapsed": false
   },
   "source": "I will now introduce you to the **pydeck** library.  This library allows you to visualise multiple map layers which can include polygons,linestrings and points.  Below is rendering a simple line string which gives me the path to drive to the Snowflake Office from my house"
  },
  {
   "cell_type": "code",
   "id": "12e35ccf-0bcf-4b70-8286-7c75f970e5cb",
   "metadata": {
    "language": "python",
    "name": "example_directions",
    "collapsed": false
   },
   "outputs": [],
   "source": "import streamlit as st\nfrom snowflake.snowpark.context import get_active_session\nfrom snowflake.snowpark.functions import *\nfrom snowflake.snowpark.types import *\nimport pandas as pd\nimport pydeck as pdk\nimport json\nsession = get_active_session()\n\n\ndata = directions_try_out.to_df().select('GEO').to_pandas()\ndata[\"coordinates\"] = data[\"GEO\"].apply(lambda row: json.loads(row)[\"coordinates\"])\n\nvehicle_1_path = pdk.Layer(\ntype=\"PathLayer\",\ndata=data,\npickable=True,\nget_color=[253, 180, 107],\nwidth_scale=20,\nwidth_min_pixels=4,\nwidth_max_pixels=7,\nget_path=\"coordinates\",\nget_width=5)\n\nview_state = pdk.ViewState(latitude=52.344367, longitude=-2.263796, zoom=7)\nst.pydeck_chart(pdk.Deck(layers=[vehicle_1_path],map_style=None,initial_view_state=view_state,height=900))",
   "execution_count": null
  },
  {
   "cell_type": "markdown",
   "id": "de8e4648-1b31-4439-9c98-921d473c475c",
   "metadata": {
    "collapsed": false,
    "name": "heading_advanced",
    "resultHeight": 88
   },
   "source": "#### 2. Advanced directions - create routes which include multiple way points. \nAlthough the function above is nice and simple for directions that stops at only one place, vehicle route plans that contain multiple drop offs will need to effectively 'detour' between the starting point and destination.  This is where we utilise **way points**.\n\nEach stop is loaded into one array.  You also need to specify the method such as driving-car.  This type of api uses a PUT request - you will see how this is articulated in the code below."
  },
  {
   "cell_type": "code",
   "execution_count": null,
   "id": "2b202936-4396-4695-937e-c82963154392",
   "metadata": {
    "collapsed": false,
    "language": "sql",
    "name": "function_way_points",
    "resultHeight": 111
   },
   "outputs": [],
   "source": [
    "CREATE OR REPLACE FUNCTION UTILS.DIRECTIONS_with_way_points (method varchar, locations array)\n",
    "RETURNS VARIANT\n",
    "language python\n",
    "runtime_version = 3.9\n",
    "handler = 'get_directions'\n",
    "external_access_integrations = (OPEN_ROUTE_INTEGRATION)\n",
    "PACKAGES = ('snowflake-snowpark-python','requests')\n",
    "SECRETS = ('cred' = UTILS.ROUTING_TOKEN )\n",
    "\n",
    "AS\n",
    "$$\n",
    "import requests\n",
    "import _snowflake\n",
    "\n",
    "def get_directions(method,locations):\n",
    "    request_directions = f'''https://api.openrouteservice.org/v2/directions/{method}/geojson'''\n",
    "    key = _snowflake.get_generic_secret_string('cred')\n",
    "\n",
    "    HEADERS = { 'Accept': 'application/json, application/geo+json, application/gpx+xml, img/png; charset=utf-8',\n",
    "               'Authorization':key,\n",
    "               'Content-Type': 'application/json; charset=utf-8'}\n",
    "\n",
    "    body = {\"coordinates\":locations}\n",
    "\n",
    "    r = requests.post(url = request_directions,json = body, headers=HEADERS)\n",
    "    response = r.json()\n",
    "    \n",
    "    return response\n",
    "$$;"
   ]
  },
  {
   "cell_type": "markdown",
   "id": "b57d639d-53ec-4bf4-9f92-a633d3b42bc1",
   "metadata": {
    "name": "heading_example_way_points",
    "collapsed": false
   },
   "source": "Lets now take you through calling the service which pushes in multiple way points.  Firstly, you will create a series of waypoints in an array.  Python is a great way to inject array variables into our sql function via a notebook for testing purposes."
  },
  {
   "cell_type": "code",
   "id": "174c9a1d-63c7-4f7b-886b-b1e24d7778f1",
   "metadata": {
    "language": "python",
    "name": "pwaypoints",
    "collapsed": false
   },
   "outputs": [],
   "source": "way_points = [\n  [\n    -97.728009,\n    30.263267\n  ],\n  [\n    -97.7168732,\n    30.3508968\n  ],\n  [\n    -97.6812713,\n    30.3052591\n  ],\n  [\n    -97.7218991,\n    30.3007635\n  ],\n  [\n    -97.82502,\n    30.08664\n  ],\n  [\n    -97.728009,\n    30.263267\n  ]\n]",
   "execution_count": null
  },
  {
   "cell_type": "markdown",
   "id": "c48fc19d-e21a-4296-b0ab-60e9dee40219",
   "metadata": {
    "name": "head_create_waypoint_snowpark_table",
    "collapsed": false
   },
   "source": "We will then use Snowpark to persist the waypoints into a dataframe.  This will be used to render the points on a map. "
  },
  {
   "cell_type": "code",
   "id": "dd7c9bfc-9550-4d5a-835c-f4af9e179eb0",
   "metadata": {
    "language": "python",
    "name": "waypoints",
    "collapsed": false
   },
   "outputs": [],
   "source": "waypoints = session.create_dataframe(way_points)\\\n.with_column_renamed(col('_1'),'LON').with_column_renamed(col('_2'),'LAT')\nwaypoints",
   "execution_count": null
  },
  {
   "cell_type": "markdown",
   "id": "3119c980-4464-4397-b65b-b6093dd33828",
   "metadata": {
    "name": "heading_directions_wpoints",
    "collapsed": false
   },
   "source": "Now lets call the waypoint function which will return a line string containing the directions.  We do have the capability to extract the instructions for each waypoint - all this is stored in the same way as the simple directions service.  However, for this exercise we are interested in the line string only.  This will in turn form the second layer of the map."
  },
  {
   "cell_type": "code",
   "execution_count": null,
   "id": "d0c14541-0169-4fed-95f4-b662936fb71c",
   "metadata": {
    "collapsed": false,
    "language": "sql",
    "name": "try_way_points",
    "resultHeight": 111
   },
   "outputs": [],
   "source": "SELECT UTILS.DIRECTIONS_with_way_points('driving-car',{{way_points}}):features[0]:geometry GEO"
  },
  {
   "cell_type": "markdown",
   "id": "f84ccc6f-0dee-46a2-9043-954f131db9ba",
   "metadata": {
    "name": "visualise_head",
    "collapsed": false
   },
   "source": "We will now visualise the the directions with way points again using pydeck.  This incorporates two layers - one for the line string and the second for each way point "
  },
  {
   "cell_type": "code",
   "id": "cd374d41-27c8-415d-ab82-41a43e3dc9c9",
   "metadata": {
    "language": "python",
    "name": "visualise_mulit_point",
    "collapsed": false,
    "codeCollapsed": false
   },
   "outputs": [],
   "source": "import streamlit as st\nfrom snowflake.snowpark.context import get_active_session\nfrom snowflake.snowpark.functions import *\nfrom snowflake.snowpark.types import *\nimport pandas as pd\nimport pydeck as pdk\nimport json\nsession = get_active_session()\n\ndrop_offs = waypoints.to_pandas()\ndata = try_way_points.to_df().select('GEO').to_pandas()\ndata[\"coordinates\"] = data[\"GEO\"].apply(lambda row: json.loads(row)[\"coordinates\"])\n\nscatter = pdk.Layer(\n            'ScatterplotLayer',\n            data=drop_offs,\n            get_position='[LON, LAT]',\n            get_color='[0,187,2]',\n            get_radius=600,\n            pickable=True)\n\n\nvehicle_1_path = pdk.Layer(\ntype=\"PathLayer\",\ndata=data,\npickable=True,\nget_color=[253, 180, 107],\nwidth_scale=20,\nwidth_min_pixels=4,\nwidth_max_pixels=7,\nget_path=\"coordinates\",\nget_width=6)\n\nview_state = pdk.ViewState(latitude=30.08664, longitude=-97.82502, zoom=10)\nst.pydeck_chart(pdk.Deck(layers=[vehicle_1_path,scatter],map_style=None,initial_view_state=view_state,height=900))",
   "execution_count": null
  },
  {
   "cell_type": "markdown",
   "id": "b18a80eb-adc5-47c5-878b-8a3e21cefcfd",
   "metadata": {
    "collapsed": false,
    "name": "heading_optimisation",
    "resultHeight": 88
   },
   "source": "#### 3. Route Optimisation Function - used to find the best optimal workload for each vehicle based on all the job requirements and the vehicles that are available.  \n\nThe job detailed requirements such as skills, capacity requirements and delivery slots are sent in the first array. Any available vehicle specifications are sent in the second array."
  },
  {
   "cell_type": "code",
   "execution_count": null,
   "id": "5e0c9533-822f-4516-aa4d-77351abee6b6",
   "metadata": {
    "collapsed": false,
    "language": "sql",
    "name": "function_optimisation",
    "resultHeight": 111
   },
   "outputs": [],
   "source": [
    "CREATE OR REPLACE FUNCTION UTILS.OPTIMIZATION (jobs array, vehicles array)\n",
    "RETURNS VARIANT\n",
    "language python\n",
    "runtime_version = 3.9\n",
    "handler = 'get_optimization'\n",
    "external_access_integrations = (OPEN_ROUTE_INTEGRATION)\n",
    "PACKAGES = ('snowflake-snowpark-python','requests')\n",
    "SECRETS = ('cred' = UTILS.ROUTING_TOKEN )\n",
    "\n",
    "AS\n",
    "$$\n",
    "import requests\n",
    "import _snowflake\n",
    "def get_optimization(jobs,vehicles):\n",
    "    request_optimization = f'''https://api.openrouteservice.org/optimization'''\n",
    "    key = _snowflake.get_generic_secret_string('cred')\n",
    "    HEADERS = { 'Accept': 'application/json, application/geo+json, application/gpx+xml, img/png; charset=utf-8',\n",
    "               'Authorization':key,\n",
    "               'Content-Type': 'application/json; charset=utf-8'}\n",
    "\n",
    "    body = {\"jobs\":jobs,\"vehicles\":vehicles}\n",
    "\n",
    "    r = requests.post(url = request_optimization,json = body, headers=HEADERS)\n",
    "    response = r.json()\n",
    "    \n",
    "    return response\n",
    "$$;"
   ]
  },
  {
   "cell_type": "markdown",
   "id": "f22adb8c-b021-480c-8551-713f895b6a16",
   "metadata": {
    "name": "markdown_arrays_jobs_vehicles",
    "collapsed": false
   },
   "source": "Now let's test this function out.  Below are two variables created for jobs and vehicles.  The optimisation service has documentation regarding the sorts of information you can pass through for both jobs and vehicles.  I am passing information such as a skill, the drop off location, capacity requirements and a skill.  The **skill** number needs to match to assign a job to a vehicle.  If the skill number on the job does not match any of the vehicles, the job will be flagged as **unassigned**.  This number could effectively relate to special requirement such as the vehicle must contain a fridge."
  },
  {
   "cell_type": "code",
   "id": "37387b28-2307-436f-99f7-f77ea343b062",
   "metadata": {
    "language": "python",
    "name": "sample_jobs_and_vehicles",
    "collapsed": false
   },
   "outputs": [],
   "source": "jobs = [\n  {\n    \"capacity\": [\n      2\n    ],\n    \"id\": 1,\n    \"location\": [\n      -4.613748000000000e-01,\n      5.152569760000000e+01\n    ],\n    \"skills\": [\n      1\n    ],\n    \"time_window\": [\n      32400,\n      36000\n    ]\n  },\n  {\n    \"capacity\": [\n      2\n    ],\n    \"id\": 6,\n    \"location\": [\n      -3.355460000000000e-01,\n      5.150566550000000e+01\n    ],\n    \"skills\": [\n      1\n    ],\n    \"time_window\": [\n      36000,\n      54000\n    ]\n  }\n\n]\n\nvehicles = [\n  {\n    \"capacity\": [\n      2\n    ],\n    \"end\": [\n      -4.467074000000000e-01,\n      5.146048020000000e+01\n    ],\n    \"id\": 1,\n    \"profile\": \"driving-car\",\n    \"skills\": [\n      1\n    ],\n    \"start\": [\n      -4.467074000000000e-01,\n      5.146048020000000e+01\n    ],\n    \"time_windows\": [\n      28800,\n      61200\n    ]\n  },\n]",
   "execution_count": null
  },
  {
   "cell_type": "markdown",
   "id": "1738f5a7-524a-4e74-9342-928cd1deb922",
   "metadata": {
    "name": "head_test_function",
    "collapsed": false
   },
   "source": "**Now** we will test the function out - we will apply the two variant variables to the function and a json object will be returned."
  },
  {
   "cell_type": "code",
   "id": "ed6aa2a3-26b3-4cf6-ab62-2937b4884530",
   "metadata": {
    "language": "sql",
    "name": "test_route_optimisation",
    "collapsed": false
   },
   "outputs": [],
   "source": "SELECT UTILS.OPTIMIZATION({{jobs}},{{vehicles}}) OPTIMIZATION",
   "execution_count": null
  },
  {
   "cell_type": "markdown",
   "id": "ac09cf97-384d-40a0-9a80-36f63b1a0d38",
   "metadata": {
    "name": "head_look_at_json",
    "collapsed": false
   },
   "source": "Let's now have a look at the json object. You will see that the array object is broken down into routes.  Each route will be assigned a vehicle and that vehicle will be allocated delivery locations and times.  There will also be infomation about the duration and may include details such as waiting times."
  },
  {
   "cell_type": "code",
   "id": "ccbc5bc6-b7de-4ae3-ac21-946b09ad95b0",
   "metadata": {
    "language": "python",
    "name": "view_optimisation_results",
    "collapsed": false
   },
   "outputs": [],
   "source": "test_route_optimisation.to_df().collect()[0][0]",
   "execution_count": null
  },
  {
   "cell_type": "markdown",
   "id": "2e11999b-6e8c-4376-8ed3-a4c25ebb4ece",
   "metadata": {
    "name": "head_focus_line",
    "collapsed": false
   },
   "source": "We will use standard Geospatial functions to collect all the points into one row.  This will be used to create a line in pydeck.  In addition, I have used ST_ENVELOPE to create a bounding box for the collection of points.  This is so I can work out the overall centre point of each delivery location.  This will be useful for centering the rendered pydeck map."
  },
  {
   "cell_type": "code",
   "id": "c9344e37-47be-498f-acdf-6ef2917dab6f",
   "metadata": {
    "language": "python",
    "name": "extract_points_for_drop_offs",
    "collapsed": false
   },
   "outputs": [],
   "source": "from snowflake.snowpark.functions import *\nroutes = test_route_optimisation.to_df().select(col('OPTIMIZATION')['routes'][0]['steps'].alias('steps'))\n\nroutes = routes.join_table_function('flatten',col('steps')).select('VALUE')\nroutes = routes.select(col('VALUE')['arrival'].alias('ARRIVAL'),\n              col('VALUE')['arrival'].alias('duration'),\n              col('VALUE')['load'].alias('load'),\n              col('VALUE')['id'].alias('Job ID'),\n              col('VALUE')['location'].alias('Location'),\n              col('VALUE')['service'].alias('Service'))\n            \nline = routes.select(call_function('ST_COLLECT',call_function('st_makepoint',col('Location')[0],col('Location')[1])).alias('LINE')) \nline = line.with_column('CENTROID',call_function('ST_CENTROID',(call_function('ST_ENVELOPE',col('LINE')))))\nline",
   "execution_count": null
  },
  {
   "cell_type": "markdown",
   "id": "203f7148-1c45-4b51-a5e1-5ffd36a6aad0",
   "metadata": {
    "name": "heading_dropoffs",
    "collapsed": false
   },
   "source": "We will view the journey by combining all drop offs.  Of course the journey will involve roads, that is where the waypoint function will be used - the returned results of each drop off will be pushed into the waypoint function.  The pydeck visualisation compares straight line with directions as two distinct layers"
  },
  {
   "cell_type": "code",
   "id": "96c81bbc-ff2b-44a7-baab-01d6a74404f2",
   "metadata": {
    "language": "python",
    "name": "view_drop_offs_in_map",
    "collapsed": false
   },
   "outputs": [],
   "source": "import streamlit as st\nfrom snowflake.snowpark.context import get_active_session\nfrom snowflake.snowpark.functions import *\nfrom snowflake.snowpark.types import *\nimport pandas as pd\nimport pydeck as pdk\nimport json\nsession = get_active_session()\n\ncenter = line.select(call_function('ST_X',col('CENTROID')).alias('X'),\n                     call_function('ST_Y',col('CENTROID')).alias('Y')).limit(1).to_pandas()\n\nLAT = center.Y.iloc[0]\nLON = center.X.iloc[0]\n\ndirections = line.select(call_function('st_asgeojson',col('line'))['coordinates'].alias('line'))\ndirections = directions.with_column('line',\n                                    call_function('UTILS.DIRECTIONS_with_way_points',\n                                                  'driving-car',\n                                                  col('line'))['features'][0]['geometry'])\n\nst.write(directions)\ndata = directions.select('LINE').to_pandas()\ndata[\"coordinates\"] = data[\"LINE\"].apply(lambda row: json.loads(row)[\"coordinates\"])\ndata2 = line.to_pandas()\ndata2[\"coordinates\"] = data2[\"LINE\"].apply(lambda row: json.loads(row)[\"coordinates\"])\n\nvehicle_1_path = pdk.Layer(\ntype=\"PathLayer\",\ndata=data,\npickable=True,\nget_color=[253, 180, 107],\nwidth_scale=20,\nwidth_min_pixels=4,\nwidth_max_pixels=7,\nget_path=\"coordinates\",\nget_width=5)\n\nvehicle_1_straight_line = pdk.Layer(\ntype=\"PathLayer\",\ndata=data2,\npickable=True,\nget_color=[255,0, 107],\nwidth_scale=20,\nwidth_min_pixels=4,\nwidth_max_pixels=7,\nget_path=\"coordinates\",\nget_width=5)\n\nview_state = pdk.ViewState(latitude=LAT, longitude=LON, zoom=10)\nst.markdown('Waypoints joined together as a straight line')\nst.pydeck_chart(pdk.Deck(layers=[vehicle_1_path,vehicle_1_straight_line],map_style=None,initial_view_state=view_state,height=900))",
   "execution_count": null
  },
  {
   "cell_type": "markdown",
   "id": "3563ff00-58f7-4ad0-a7e4-558dd726a939",
   "metadata": {
    "collapsed": false,
    "name": "heading_isochrone",
    "resultHeight": 47
   },
   "source": "#### 4. Isochrone Function.  \nThis is to create a polygon which creates a catchment boundary based on how long it would take to get there.  Orders may only be accepted if you can fullfill them based on how quickly drivers can get anywhere within a given timeframe.  Isochrones could be utilised for other usecases outside of route optimisation such as market analysis in a given catchment."
  },
  {
   "cell_type": "code",
   "execution_count": null,
   "id": "cf4a64f7-681f-4e14-bb79-532123a939f6",
   "metadata": {
    "collapsed": false,
    "language": "sql",
    "name": "function_isochrone",
    "resultHeight": 111
   },
   "outputs": [],
   "source": "CREATE OR REPLACE FUNCTION UTILS.ISOCHRONES(method string, lon float, lat float, range int)\nRETURNS VARIANT\nlanguage python\nruntime_version = 3.9\nhandler = 'get_isochrone'\nexternal_access_integrations = (OPEN_ROUTE_INTEGRATION)\nPACKAGES = ('snowflake-snowpark-python','requests')\nSECRETS = ('cred' = UTILS.ROUTING_TOKEN )\n\nAS\n$$\nimport requests\nimport _snowflake\ndef get_isochrone(method,lon,lat,range):\n    request_isochrone = f'''https://api.openrouteservice.org/v2/isochrones/{method}'''\n    key = _snowflake.get_generic_secret_string('cred')\n    HEADERS = { 'Accept': 'application/json, application/geo+json, application/gpx+xml, img/png; charset=utf-8',\n               'Authorization':key,\n               'Content-Type': 'application/json; charset=utf-8'}\n\n    body = {'locations':[[lon,lat]],\n                    'range':[range*60],\n                    'location_type':'start',\n                    'range_type':'time',\n                    'smoothing':10}\n\n    r = requests.post(url = request_isochrone,json = body, headers=HEADERS)\n    response = r.json()\n    \n    return response\n$$;"
  },
  {
   "cell_type": "markdown",
   "id": "fce211a3-dfed-4e99-91d8-e0037eb015b3",
   "metadata": {
    "name": "heading_test_polygon",
    "collapsed": false
   },
   "source": "The function is then tested by focussing on a specific point.  It will generate a polygon which represents everywhere a driver can get to within a 20 minute timeframe."
  },
  {
   "cell_type": "code",
   "execution_count": null,
   "id": "ce320721-093a-4b9b-951d-94342c71d67a",
   "metadata": {
    "collapsed": false,
    "language": "sql",
    "name": "isochrones_try",
    "resultHeight": 111
   },
   "outputs": [],
   "source": "select UTILS.ISOCHRONES('cycling-regular', 2.351,48.85, 20):features[0]:geometry GEO, ST_CENTROID(TO_GEOGRAPHY(GEO)) CENTROID, ST_X(CENTROID) LON, ST_Y(CENTROID) LAT"
  },
  {
   "cell_type": "markdown",
   "id": "e5c2cc7a-a3a8-4608-a082-0ab362d253f5",
   "metadata": {
    "name": "heading_view_iscochrone",
    "collapsed": false
   },
   "source": "This is an example of what an isochrone looks like in pydeck."
  },
  {
   "cell_type": "code",
   "id": "ce111da6-95a2-427a-be7e-762ce06884eb",
   "metadata": {
    "language": "python",
    "name": "view_iscochrone",
    "collapsed": false,
    "codeCollapsed": true
   },
   "outputs": [],
   "source": "import streamlit as st\nfrom snowflake.snowpark.context import get_active_session\nfrom snowflake.snowpark.functions import *\nfrom snowflake.snowpark.types import *\nimport pandas as pd\nimport pydeck as pdk\nimport json\nsession = get_active_session()\n\n\ndata = isochrones_try.to_df().select('GEO','LON','LAT').to_pandas()\nLAT = data.LAT.iloc[0]\nLON = data.LON.iloc[0]\ndata[\"coordinates\"] = data[\"GEO\"].apply(lambda row: json.loads(row)[\"coordinates\"])\n\nisochrone = pdk.Layer(\n\"PolygonLayer\",\ndata,\nopacity=0.7,\nget_polygon=\"coordinates\",\nfilled=True,\nget_line_color=[41,181,232],\nget_fill_color=[200,230,242],\nget_line_width=10,\nline_width_min_pixels=6,\nauto_highlight=True,\npickable=False)\n\nview_state = pdk.ViewState(latitude=LAT, longitude=LON, zoom=10)\nst.pydeck_chart(pdk.Deck(layers=[isochrone],map_style=None,initial_view_state=view_state,height=900))",
   "execution_count": null
  },
  {
   "cell_type": "markdown",
   "id": "f8284a29-bc69-4916-9863-2a10f2ffef0a",
   "metadata": {
    "name": "heading_base_data",
    "collapsed": false
   },
   "source": "## Create Base Data Table for App\nNow we will focus on putting components together for a streamlit application.  We are aiming to create a dynamic routing analyser.  For this, we will need to generate jobs, vehicles and depots based on any location in the world.  Carto overture maps will help as it contains points of interests anywhere in the world. Cortex complete is also used for a simple 'geocoding' mechanism where a user will type in a key word and cortex will generate the coordinates that matches what central location the user wants to base the routing against"
  },
  {
   "cell_type": "markdown",
   "id": "f093ec46-d9a0-4690-b52a-ad7732d947d0",
   "metadata": {
    "name": "heading_job_template",
    "collapsed": false
   },
   "source": "#### 1. Job Template\nThis template will be used to simulate jobs.  You can change the base values in this notebook - which will effect what sample jobs will be generated.  This template generates a sample of 29 jobs.  The location of these jobs and industry will be dynamic and depends on user interaction with the app."
  },
  {
   "cell_type": "code",
   "id": "7fce93eb-0560-454e-8dcc-63fbb705dd8f",
   "metadata": {
    "language": "sql",
    "name": "job_template",
    "collapsed": false
   },
   "outputs": [],
   "source": "CREATE OR REPLACE TABLE JOB_TEMPLATE (\n\nID INT AUTOINCREMENT PRIMARY KEY,\nslot_start INT NOT NULL,\nslot_end INT,\nskills INT,\nproduct STRING,\nstatus STRING DEFAULT 'active'\n\n)\n\n",
   "execution_count": null
  },
  {
   "cell_type": "code",
   "id": "7b9e47ce-24b9-4efd-a2c1-cd8557bd16a0",
   "metadata": {
    "language": "sql",
    "name": "insert_rows",
    "collapsed": false
   },
   "outputs": [],
   "source": "INSERT INTO JOB_TEMPLATE (slot_start, slot_end, skills, product, status) VALUES\n(9, 10, 1, 'pa', 'active'),\n(11, 15, 2, 'pb', 'active'),\n(16, 18, 2, 'pb', 'active'),\n(11, 13, 3, 'pc', 'active'),\n(7, 16, 3, 'pc', 'active'),\n(10, 15, 2, 'pa', 'active'),\n(10, 15, 2, 'pa', 'active'),\n(7, 16, 1, 'pa', 'active'),\n(9, 18, 2, 'pb', 'active'),\n(13, 18, 2, 'pb', 'active'),\n(13, 18, 2, 'pb', 'active'),\n(13, 18, 1, 'pa', 'active'),\n(13, 18, 1, 'pa', 'active'),\n(13, 18, 1, 'pa', 'active'),\n(13, 18, 3, 'pc', 'active'),\n(11, 15, 2, 'pb', 'active'),\n(16, 18, 2, 'pb', 'active'),\n(11, 13, 1, 'pa', 'active'),\n(7, 16, 1, 'pa', 'active'),\n(10, 15, 2, 'pb', 'active'),\n(10, 15, 2, 'pb', 'active'),\n(7, 16, 1, 'pa', 'active'),\n(9, 18, 2, 'pb', 'active'),\n(13, 18, 2, 'pb', 'active'),\n(13, 18, 2, 'pb', 'active'),\n(13, 18, 1, 'pa', 'active'),\n(13, 18, 1, 'pa', 'active'),\n(13, 18, 1, 'pa', 'active'),\n(13, 18, 3, 'pc', 'active');\n",
   "execution_count": null
  },
  {
   "cell_type": "code",
   "id": "b53eb8d4-9302-42ac-a1a0-059e30f372ae",
   "metadata": {
    "language": "sql",
    "name": "select_job_template",
    "collapsed": false
   },
   "outputs": [],
   "source": "SELECT * FROM JOB_TEMPLATE",
   "execution_count": null
  },
  {
   "cell_type": "markdown",
   "id": "f05f7669-4a46-43ca-bfcb-0747c9ab3678",
   "metadata": {
    "name": "optimal_base_table",
    "collapsed": false
   },
   "source": "#### 2. Create a base table with search optimisation to filter quickly on categories and geographies\n\nHere we are using the places dataset which is provided by carto overture maps.  We are copying the data to add search optimisation on the categories of place as well as the geography.  We will be leveraging the 'Search' function in the app to search through columns that may be relevant to the selected industry."
  },
  {
   "cell_type": "code",
   "id": "2ec991e4-c771-4c5a-924f-a1f7817ccc6e",
   "metadata": {
    "language": "sql",
    "name": "SEARCH_optimisation",
    "collapsed": false
   },
   "outputs": [],
   "source": "CREATE OR REPLACE TABLE places as \n\nselect \n\nany_value(GEOMETRY) GEOMETRY,\n\nPHONES:list[0]['element']::text PHONES,\nCATEGORIES:primary::text CATEGORY,\nNAMES:primary::text NAME,\nADDRESSES:list[0]['element'] ADDRESS,\n\narray_agg(value:element) as ALTERNATE \n\nfrom\n\n(SELECT PHONES,CATEGORIES,NAMES,ADDRESSES,GEOMETRY,\n\ncategories:alternate:list AS LIST\n\nfrom OVERTURE_MAPS__PLACES.CARTO.PLACE), \n\n--where CATEGORIES:primary is not null),\nLATERAL FLATTEN(LIST) GROUP BY ALL;\n\nALTER TABLE places ADD SEARCH OPTIMIZATION ON EQUALITY(ALTERNATE);\nALTER TABLE places ADD SEARCH OPTIMIZATION ON GEO(GEOMETRY);\n\nSELECT * FROM PLACES limit 3",
   "execution_count": null
  },
  {
   "cell_type": "code",
   "id": "e3372734-fd5f-49ce-9b9e-35574598ea42",
   "metadata": {
    "language": "sql",
    "name": "places_on_isochrone",
    "collapsed": false
   },
   "outputs": [],
   "source": "select * EXCLUDE (GEOMETRY,GEO),ST_X(GEOMETRY) LON,ST_Y(GEOMETRY) LAT from PLACES A INNER JOIN\n(select GEO from {{isochrones_try}}) B ON\n\nST_WITHIN(TO_GEOGRAPHY(A.GEOMETRY),TO_GEOGRAPHY(B.GEO))\n\nwhere CATEGORY = 'hotel'",
   "execution_count": null
  },
  {
   "cell_type": "markdown",
   "id": "9382c9dd-4f0e-4975-bb49-047c74297992",
   "metadata": {
    "name": "scatter_head",
    "collapsed": false
   },
   "source": "Here, we are using the Scatter Plot layer to only view places by the isochrone "
  },
  {
   "cell_type": "code",
   "id": "45b3ffc0-5d00-4498-8445-e841c3a966e8",
   "metadata": {
    "language": "python",
    "name": "view_places",
    "collapsed": false
   },
   "outputs": [],
   "source": "center = isochrones_try.to_df().limit(1).to_pandas()\n\nBLAT = center.LAT.iloc[0]\nBLON = center.LON.iloc[0]\n\ncontext = pdk.Layer(\n'ScatterplotLayer',\nplaces_on_isochrone.to_pandas(),\nget_position=['LON', 'LAT'],\nfilled=True,\nstroked=False,\nradius_min_pixels=6,\nradius_max_pixels=20,\nauto_highlight=True,\nget_fill_color=[41, 181, 232],\npickable=True)\nst.divider()\n\nview_state = pdk.ViewState(latitude=BLAT, longitude=BLON, zoom=10)\nst.pydeck_chart(pdk.Deck(layers=[context],map_style=None,initial_view_state=view_state,height=900))",
   "execution_count": null
  },
  {
   "cell_type": "markdown",
   "id": "0f22a581-408f-44fb-91a3-6327d40ef657",
   "metadata": {
    "name": "example_search",
    "collapsed": false
   },
   "source": "#### Below are all the categories you could use to simulate distribution points\nThe app will search through names, categories and alternative categories in order to retrieve the relevant data"
  },
  {
   "cell_type": "code",
   "id": "c4c0f773-41fd-4083-bf4f-4cce05140971",
   "metadata": {
    "language": "sql",
    "name": "all_categories",
    "collapsed": false
   },
   "outputs": [],
   "source": "SELECT DISTINCT CATEGORY FROM (\nselect DISTINCT VALUE::TEXT CATEGORY FROM PLACES, LATERAL FLATTEN (ALTERNATE)\n\nUNION \n\nSELECT DISTINCT CATEGORY FROM PLACES) WHERE SEARCH((CATEGORY),'food')",
   "execution_count": null
  },
  {
   "cell_type": "markdown",
   "id": "e573e63b-c14e-4ac4-8581-299a17841652",
   "metadata": {
    "name": "lookup_heading",
    "collapsed": false
   },
   "source": "### 4. Creating an Industry Lookup\n\nDepending on the selected industry, the app will 'lookup' specifics in order to retrieve/ filter the right information.  It is also used to generate relevant product categories. In this notebook, more industries can be added."
  },
  {
   "cell_type": "code",
   "id": "f3b8a90d-4002-4e0b-8fc1-f1c8ad95d108",
   "metadata": {
    "language": "sql",
    "name": "industry",
    "collapsed": false
   },
   "outputs": [],
   "source": "CREATE OR REPLACE TABLE LOOKUP (\n    INDUSTRY STRING,\n    PA STRING,\n    PB STRING,\n    PC STRING,\n    IND ARRAY,\n    IND2 ARRAY,\n    CTYPE ARRAY,\n    STYPE ARRAY\n);\n\nINSERT INTO LOOKUP (INDUSTRY, PA, PB, PC, IND,IND2, CTYPE, STYPE) \nSELECT\n    'healthcare', \n    'flammable', \n    'sharps', \n    'temperature-controlled', \n    ARRAY_CONSTRUCT('hospital health pharmaceutical drug healthcare pharmacy surgical'), \n    ARRAY_CONSTRUCT('supplies warehouse depot distribution wholesaler distributors'), \n    ARRAY_CONSTRUCT('hospital', 'family_practice', 'dentist','pharmacy'), \n    ARRAY_CONSTRUCT('Can handle potentially explosive goods', 'Can handle instruments that could be used as weapons', 'Has a fridge')\nUNION ALL\nSELECT\n    'Food', \n    'Fresh Food Order', \n    'Frozen Food Order', \n    'Non Perishable Food Order', \n    ARRAY_CONSTRUCT('food vegatables meat vegatable'),\n    ARRAY_CONSTRUCT('wholesaler warehouse factory processing distribution distributors'), \n    ARRAY_CONSTRUCT('supermarket', 'restaurant', 'butcher_shop'), \n    ARRAY_CONSTRUCT('Can deliver Fresh Food', 'Has a Fridge', 'Premium Delivery')\nUNION ALL\nSELECT\n    'Cosmetics', \n    'Hair Products', \n    'Electronic Goods', \n    'Make-up', \n    ARRAY_CONSTRUCT('hair cosmetics make-up beauty'),\n    ARRAY_CONSTRUCT('wholesaler warehouse factory supplies distribution distributors'), \n    ARRAY_CONSTRUCT('supermarket', 'outlet', 'fashion'), \n    ARRAY_CONSTRUCT('Can deliver Fresh Food', 'Has a Fridge', 'Premium Delivery')\n\n    ;\n\n",
   "execution_count": null
  },
  {
   "cell_type": "code",
   "id": "3ecfe0c2-fe18-4049-8e78-dbeaa9df7955",
   "metadata": {
    "language": "sql",
    "name": "view_categories",
    "collapsed": false
   },
   "outputs": [],
   "source": "SELECT * FROM LOOKUP",
   "execution_count": null
  },
  {
   "cell_type": "markdown",
   "id": "3c52f35c-85d4-4edc-9156-57a2c72dc8c6",
   "metadata": {
    "name": "heading_example_jtemplate",
    "collapsed": false
   },
   "source": "#### Here is an example of how the lookup workes for healthcare for flammable products"
  },
  {
   "cell_type": "code",
   "id": "ef077309-e1c3-4f4e-b4ea-b5e1b5c4084e",
   "metadata": {
    "language": "sql",
    "name": "select_jtemplate_hcare",
    "collapsed": false
   },
   "outputs": [],
   "source": "select * from JOB_TEMPLATE a \n\ninner join\n\n(select PA from lookup where industry = 'healthcare') b\n\non PRODUCT = 'pa'",
   "execution_count": null
  },
  {
   "cell_type": "markdown",
   "id": "80b066e3-cd48-469b-89b5-f820d3ae1dca",
   "metadata": {
    "collapsed": false,
    "name": "streamlit",
    "resultHeight": 134
   },
   "source": "## Streamlit App\n\nNow you have setup the functions and standing data tables, you can now have a go at running the streamlit app.  The streamlit application is an example of what a basic route optimisation simulator could look like.  Feel free to make any changes as you see fit.\n\n- Within Projects / Streamlit you should see a new application\n- Click on the app to run the route optimisation simulator"
  },
  {
   "cell_type": "code",
   "id": "842ed48e-3c6a-48cf-b7b2-f69a87a9385d",
   "metadata": {
    "language": "sql",
    "name": "GRANT_ACCESS_FUNCTIONS_TABLES"
   },
   "outputs": [],
   "source": "GRANT SELECT ON ALL TABLES IN SCHEMA ROUTING TO ROLE PUBLIC;\n\nGRANT USAGE ON ALL FUNCTIONS IN SCHEMA UTILS TO ROLE PUBLIC;",
   "execution_count": null
  }
 ]
}